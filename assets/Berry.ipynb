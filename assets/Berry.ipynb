{
 "cells": [
  {
   "cell_type": "markdown",
   "metadata": {},
   "source": [
    "# Fixed Coefficients Random Utility (Demand) Estimation\n",
    "\n",
    "This notebook reviews the estimation and inference of a **linear** random utility model when the agent is facing a finite number of alternatives.\n",
    "\n",
    "## Introduction\n",
    "Consider a set of $J+1$ alternatives $\\{0,1,2,...,J\\}$. The utility that decision maker (DM) $i$ receives from buying projusct $j$ is\n",
    "$$ u_{ij} = x_{ij}' \\beta -\\alpha p_j + \\xi_j+ \\epsilon_{ij}.$$\n",
    "The DM maximizes her utility\n",
    "$$y_i =\\arg \\min_{j} u_{ij}.$$\n",
    "\n",
    "We now assume that $\\epsilon_{ij}$ are $i.i.d.$ across DMs and across alternatives. In addition, we assume that $\\epsilon_{ij}$ are distributed (standard) T1EV. We can write the following Conditional Choice Probabilities (CCP):\n",
    "$$ Pr(y_i = j) = \\frac{e^{x_{ij}'\\beta}}{\\sum_{k=0}^{J}e^{x_{ik}'\\beta}}.$$\n",
    "\n",
    "**Aggregate, market-level data** In Berry, Levinson, and Pakes (1995) and in many other empirical work following BLP the researcher observes only market-level data. That means that the characteristics vector of the alternatives is not indexed by $i$. The variation in product characteristics are unobserved and get absorbed by the error term $\\epsilon$. The choice probabilities become\n",
    "$$ Pr(y = j|x_j, \\xi_j; \\beta) \\ \\text{for} \\ j=0,,,J = \\frac{e^{x_{j}'\\beta}}{\\sum_{k=0}^{J}e^{x_{k}'\\beta}}.$$\n",
    "The left-hand side is simply the market share of product/alternative $j$. We will denote these market shares as $s_0,s_1,...,s_{J-1}$. The CCP above all have the same denominator. Moreover, for identification reasons, we normalize $x_0 = 0$. Therefore,\n",
    "$$ \\frac{s_j}{s_0} = e^{x_j'\\beta}.$$\n",
    "\n",
    "Using Berry's Inversion (1994), and take log for both sides gives us:\n",
    "\n",
    "$$ \\text{ln}(s_j) - \\text{ln} (s_0) \\ = \\delta_j \\equiv x_j' \\beta - \\alpha p_j + \\xi_j \\ \\ \\ \\ \\ \\text{(eq} A) $$ \n",
    "\n",
    "where\n",
    "- Mean utility level $\\delta_j$ contains the product characteristic $x_j$, $price_j$ and the aggregate error $\\xi_j$.\n",
    "- Econometricians observe aggregate market share for good $j$, outside good, product characteristics $x_j$, price $p_j$.\n",
    "- $\\delta_j$ is uniquely identified directly from a simple algebraic calculation involving market share.\n",
    "- This is a OLS. (We need instruments for the price!)\n"
   ]
  },
  {
   "cell_type": "markdown",
   "metadata": {},
   "source": [
    "# For the rest of this notebook, we will introduce two empirical examples:\n",
    "\n",
    "\n",
    "## A. Estimate logit-demand using, BLP(1995)'s aggregate market level data.\n",
    "\n",
    "- A1. Introduction of car data from BLP(1995)\n",
    "- A2. Data cleaning\n",
    "- A3. Run linear regression using eq(A)\n",
    "- A4. Run 2sls using instruments\n",
    "\n",
    "## B. Monte Carlo Example: estimate logit-demand after solving Nash-Bertrand game\n",
    "\n",
    "- B1. Data Generating Process\n",
    "- B2. Obtain (numerically) equilibrium price and market shares\n",
    "- B3. Regress using OLS / IV (cost shifters, and competitors' product charactersitics as instruments for price. (Table 1, Berry (1994)"
   ]
  },
  {
   "cell_type": "markdown",
   "metadata": {},
   "source": [
    "### A1.Introduction of car data from BLP(1995)\n",
    "\n",
    "#### As an empirical study, we will replicate Table 3, as in BLP (1995).\n",
    "\n",
    "- We obtain product characteristics from the annual issues of the  Automotive News Market Data Book and you can find BLP.csv.\n",
    "\n",
    "- Data includes the number of cylinders, number of doors, weight, engine displacement, horsepower, length, width, wheelbase, EPA miles per gallon rating  (MPG), and dummy variables for whether the car has front-wheel drive,  automatic transmission, power steering, and air conditioning.\n",
    "- The data set includes this information on observed products from 1971-1990.\n",
    "- The price variable is list retail price (in \\$1000's). Prices are in 1983 dollars. (We used the Consumer Price Index to  deflate.) \n",
    "- The sales variable corresponds to U.S. sales (in 1000's) by nameplate.\n",
    "- The product characteristics correspond to the characteristics of the base model for the given nameplate.\n",
    "- To capture the cost of driving, we include milers per dollar (MP\\$), calculated as MPG divided by price per gallon. (Notice that MPG and pricer per gallon is provided.)\n",
    "\n",
    "\n",
    "- In terms of potential market size, there is no formal definition. we used the yearly number of households in the U.S. from Statistical Abstract of the U.S.\n",
    "- We assume that each model comprises a single firm to avoid a multi-product pricing problem."
   ]
  },
  {
   "cell_type": "code",
   "execution_count": 1,
   "metadata": {},
   "outputs": [],
   "source": [
    "# Query / DataFramesMeta is used for cleaning dataset\n",
    "# FixedEffectModels is used for running regression\n",
    "# Distributions, Random, NLsolve are used for Monte Carlo study\n",
    "using CSV, DataFrames, Query, DataFramesMeta, FixedEffectModels, Distributions, Random, NLsolve"
   ]
  },
  {
   "cell_type": "code",
   "execution_count": 2,
   "metadata": {},
   "outputs": [
    {
     "name": "stderr",
     "output_type": "stream",
     "text": [
      "┌ Warning: `CSV.read(input; kw...)` is deprecated in favor of `using DataFrames; CSV.read(input, DataFrame; kw...)\n",
      "│   caller = read(::String) at CSV.jl:40\n",
      "└ @ CSV /Users/jinkim/.julia/packages/CSV/MKemC/src/CSV.jl:40\n"
     ]
    },
    {
     "data": {
      "text/html": [
       "<table class=\"data-frame\"><thead><tr><th></th><th>name</th><th>id</th><th>year</th><th>cy</th><th>dr</th><th>at</th><th>ps</th><th>air</th><th>drv</th><th>p</th><th>wt</th><th>dom</th><th>disp</th><th>hp</th><th>lng</th><th>wdt</th><th>wb</th><th>mpg</th><th>q</th><th>firmids</th><th>euro</th><th>reli</th><th>dfi</th><th>hp2wt</th><th>size</th><th>japan</th><th>cpi</th><th>gasprice</th><th>nb_hh</th><th>cat</th><th>door2</th><th>door3</th><th>door4</th><th>door5</th><th>sampleweight</th><th>mpgd</th><th>dpm</th><th>model</th></tr><tr><th></th><th>String</th><th>Int64</th><th>Int64</th><th>Int64</th><th>Int64</th><th>Int64</th><th>Int64</th><th>Int64</th><th>Int64</th><th>Float64</th><th>Int64</th><th>Int64</th><th>Float64</th><th>Int64</th><th>Float64</th><th>Float64</th><th>Float64</th><th>Float64</th><th>Float64</th><th>Int64</th><th>Int64</th><th>Int64</th><th>Int64</th><th>Float64</th><th>Float64</th><th>Int64</th><th>Float64</th><th>Float64</th><th>Int64</th><th>String</th><th>Int64</th><th>Int64</th><th>Int64</th><th>Int64</th><th>Int64</th><th>Float64</th><th>Float64</th><th>String</th></tr></thead><tbody><p>10 rows × 38 columns</p><tr><th>1</th><td>ACINTE</td><td>3735</td><td>1986</td><td>4</td><td>3</td><td>0</td><td>1</td><td>0</td><td>1</td><td>8.48358</td><td>2249</td><td>0</td><td>97.0</td><td>113</td><td>168.5</td><td>65.6</td><td>96.5</td><td>27.0</td><td>27.807</td><td>3</td><td>0</td><td>5</td><td>0</td><td>0.502446</td><td>1.10536</td><td>1</td><td>109.6</td><td>0.826794</td><td>88458</td><td>compact</td><td>0</td><td>1</td><td>0</td><td>0</td><td>27807</td><td>32.6562</td><td>0.030622</td><td>ACINTE1986</td></tr><tr><th>2</th><td>ACINTE</td><td>4030</td><td>1987</td><td>4</td><td>3</td><td>0</td><td>1</td><td>0</td><td>1</td><td>8.6787</td><td>2326</td><td>0</td><td>97.0</td><td>113</td><td>168.5</td><td>65.6</td><td>96.5</td><td>26.0</td><td>54.757</td><td>3</td><td>0</td><td>5</td><td>0</td><td>0.485813</td><td>1.10536</td><td>1</td><td>113.6</td><td>0.818662</td><td>89479</td><td>compact</td><td>0</td><td>1</td><td>0</td><td>0</td><td>54757</td><td>31.7591</td><td>0.031487</td><td>ACINTE1987</td></tr><tr><th>3</th><td>ACINTE</td><td>4327</td><td>1988</td><td>4</td><td>5</td><td>0</td><td>1</td><td>0</td><td>1</td><td>9.55199</td><td>2390</td><td>0</td><td>97.0</td><td>118</td><td>171.5</td><td>65.6</td><td>99.2</td><td>17.0</td><td>57.468</td><td>3</td><td>0</td><td>5</td><td>0</td><td>0.493724</td><td>1.12504</td><td>1</td><td>118.3</td><td>0.785362</td><td>91066</td><td>compact</td><td>0</td><td>0</td><td>0</td><td>1</td><td>57468</td><td>21.6461</td><td>0.0461978</td><td>ACINTE1988</td></tr><tr><th>4</th><td>ACINTE</td><td>4421</td><td>1989</td><td>4</td><td>2</td><td>0</td><td>1</td><td>0</td><td>1</td><td>10.5403</td><td>2313</td><td>0</td><td>97.0</td><td>118</td><td>168.7</td><td>65.6</td><td>96.5</td><td>26.0</td><td>77.4</td><td>3</td><td>0</td><td>5</td><td>0</td><td>0.51016</td><td>1.10667</td><td>1</td><td>124.0</td><td>0.810081</td><td>92830</td><td>compact</td><td>1</td><td>0</td><td>0</td><td>0</td><td>77400</td><td>32.0956</td><td>0.0311569</td><td>ACINTE1989</td></tr><tr><th>5</th><td>ACINTE</td><td>5421</td><td>1990</td><td>4</td><td>2</td><td>0</td><td>1</td><td>0</td><td>1</td><td>9.14308</td><td>2549</td><td>0</td><td>1.8</td><td>130</td><td>172.9</td><td>67.4</td><td>100.4</td><td>21.0</td><td>83.599</td><td>3</td><td>0</td><td>5</td><td>0</td><td>0.510004</td><td>1.16535</td><td>1</td><td>130.7</td><td>0.875542</td><td>93347</td><td>compact</td><td>1</td><td>0</td><td>0</td><td>0</td><td>83599</td><td>23.9851</td><td>0.0416925</td><td>ACINTE1990</td></tr><tr><th>6</th><td>ACLEGE</td><td>3736</td><td>1986</td><td>6</td><td>4</td><td>0</td><td>1</td><td>1</td><td>1</td><td>17.6077</td><td>2970</td><td>0</td><td>152.0</td><td>151</td><td>189.4</td><td>68.3</td><td>108.6</td><td>20.0</td><td>25.062</td><td>3</td><td>0</td><td>5</td><td>0</td><td>0.508417</td><td>1.2936</td><td>1</td><td>109.6</td><td>0.826794</td><td>88458</td><td>midsize</td><td>0</td><td>0</td><td>1</td><td>0</td><td>25062</td><td>24.1898</td><td>0.0413397</td><td>ACLEGE1986</td></tr><tr><th>7</th><td>ACLEGE</td><td>4031</td><td>1987</td><td>6</td><td>4</td><td>0</td><td>1</td><td>1</td><td>1</td><td>17.8327</td><td>3078</td><td>0</td><td>152.0</td><td>151</td><td>189.4</td><td>68.3</td><td>108.7</td><td>20.0</td><td>54.713</td><td>3</td><td>0</td><td>5</td><td>0</td><td>0.490578</td><td>1.2936</td><td>1</td><td>113.6</td><td>0.818662</td><td>89479</td><td>midsize</td><td>0</td><td>0</td><td>1</td><td>0</td><td>54713</td><td>24.4301</td><td>0.0409331</td><td>ACLEGE1987</td></tr><tr><th>8</th><td>ACLEGE</td><td>4328</td><td>1988</td><td>6</td><td>4</td><td>0</td><td>1</td><td>1</td><td>1</td><td>17.7599</td><td>3067</td><td>0</td><td>163.2</td><td>161</td><td>189.4</td><td>68.3</td><td>108.7</td><td>19.0</td><td>70.77</td><td>3</td><td>0</td><td>5</td><td>0</td><td>0.524943</td><td>1.2936</td><td>1</td><td>118.3</td><td>0.785362</td><td>91066</td><td>midsize</td><td>0</td><td>0</td><td>1</td><td>0</td><td>70770</td><td>24.1927</td><td>0.0413348</td><td>ACLEGE1988</td></tr><tr><th>9</th><td>ACLEGE</td><td>4422</td><td>1989</td><td>6</td><td>4</td><td>0</td><td>1</td><td>1</td><td>1</td><td>18.2258</td><td>3170</td><td>0</td><td>163.0</td><td>160</td><td>190.6</td><td>68.9</td><td>108.7</td><td>19.0</td><td>64.6</td><td>3</td><td>0</td><td>5</td><td>0</td><td>0.504732</td><td>1.31323</td><td>1</td><td>124.0</td><td>0.810081</td><td>92830</td><td>midsize</td><td>0</td><td>0</td><td>1</td><td>0</td><td>64600</td><td>23.4545</td><td>0.0426358</td><td>ACLEGE1989</td></tr><tr><th>10</th><td>ACLEGE</td><td>5422</td><td>1990</td><td>6</td><td>2</td><td>0</td><td>1</td><td>1</td><td>1</td><td>18.9441</td><td>3139</td><td>0</td><td>2.7</td><td>160</td><td>188.0</td><td>68.7</td><td>106.5</td><td>19.0</td><td>53.666</td><td>3</td><td>0</td><td>5</td><td>0</td><td>0.509716</td><td>1.29156</td><td>1</td><td>130.7</td><td>0.875542</td><td>93347</td><td>midsize</td><td>1</td><td>0</td><td>0</td><td>0</td><td>53666</td><td>21.7008</td><td>0.0460811</td><td>ACLEGE1990</td></tr></tbody></table>"
      ],
      "text/latex": [
       "\\begin{tabular}{r|cccccccccccccccccccccccccccccccccccccc}\n",
       "\t& name & id & year & cy & dr & at & ps & air & drv & p & wt & dom & disp & hp & lng & wdt & wb & mpg & q & firmids & euro & reli & dfi & hp2wt & size & japan & cpi & gasprice & nb\\_hh & cat & door2 & door3 & door4 & door5 & sampleweight & mpgd & dpm & model\\\\\n",
       "\t\\hline\n",
       "\t& String & Int64 & Int64 & Int64 & Int64 & Int64 & Int64 & Int64 & Int64 & Float64 & Int64 & Int64 & Float64 & Int64 & Float64 & Float64 & Float64 & Float64 & Float64 & Int64 & Int64 & Int64 & Int64 & Float64 & Float64 & Int64 & Float64 & Float64 & Int64 & String & Int64 & Int64 & Int64 & Int64 & Int64 & Float64 & Float64 & String\\\\\n",
       "\t\\hline\n",
       "\t1 & ACINTE & 3735 & 1986 & 4 & 3 & 0 & 1 & 0 & 1 & 8.48358 & 2249 & 0 & 97.0 & 113 & 168.5 & 65.6 & 96.5 & 27.0 & 27.807 & 3 & 0 & 5 & 0 & 0.502446 & 1.10536 & 1 & 109.6 & 0.826794 & 88458 & compact & 0 & 1 & 0 & 0 & 27807 & 32.6562 & 0.030622 & ACINTE1986 \\\\\n",
       "\t2 & ACINTE & 4030 & 1987 & 4 & 3 & 0 & 1 & 0 & 1 & 8.6787 & 2326 & 0 & 97.0 & 113 & 168.5 & 65.6 & 96.5 & 26.0 & 54.757 & 3 & 0 & 5 & 0 & 0.485813 & 1.10536 & 1 & 113.6 & 0.818662 & 89479 & compact & 0 & 1 & 0 & 0 & 54757 & 31.7591 & 0.031487 & ACINTE1987 \\\\\n",
       "\t3 & ACINTE & 4327 & 1988 & 4 & 5 & 0 & 1 & 0 & 1 & 9.55199 & 2390 & 0 & 97.0 & 118 & 171.5 & 65.6 & 99.2 & 17.0 & 57.468 & 3 & 0 & 5 & 0 & 0.493724 & 1.12504 & 1 & 118.3 & 0.785362 & 91066 & compact & 0 & 0 & 0 & 1 & 57468 & 21.6461 & 0.0461978 & ACINTE1988 \\\\\n",
       "\t4 & ACINTE & 4421 & 1989 & 4 & 2 & 0 & 1 & 0 & 1 & 10.5403 & 2313 & 0 & 97.0 & 118 & 168.7 & 65.6 & 96.5 & 26.0 & 77.4 & 3 & 0 & 5 & 0 & 0.51016 & 1.10667 & 1 & 124.0 & 0.810081 & 92830 & compact & 1 & 0 & 0 & 0 & 77400 & 32.0956 & 0.0311569 & ACINTE1989 \\\\\n",
       "\t5 & ACINTE & 5421 & 1990 & 4 & 2 & 0 & 1 & 0 & 1 & 9.14308 & 2549 & 0 & 1.8 & 130 & 172.9 & 67.4 & 100.4 & 21.0 & 83.599 & 3 & 0 & 5 & 0 & 0.510004 & 1.16535 & 1 & 130.7 & 0.875542 & 93347 & compact & 1 & 0 & 0 & 0 & 83599 & 23.9851 & 0.0416925 & ACINTE1990 \\\\\n",
       "\t6 & ACLEGE & 3736 & 1986 & 6 & 4 & 0 & 1 & 1 & 1 & 17.6077 & 2970 & 0 & 152.0 & 151 & 189.4 & 68.3 & 108.6 & 20.0 & 25.062 & 3 & 0 & 5 & 0 & 0.508417 & 1.2936 & 1 & 109.6 & 0.826794 & 88458 & midsize & 0 & 0 & 1 & 0 & 25062 & 24.1898 & 0.0413397 & ACLEGE1986 \\\\\n",
       "\t7 & ACLEGE & 4031 & 1987 & 6 & 4 & 0 & 1 & 1 & 1 & 17.8327 & 3078 & 0 & 152.0 & 151 & 189.4 & 68.3 & 108.7 & 20.0 & 54.713 & 3 & 0 & 5 & 0 & 0.490578 & 1.2936 & 1 & 113.6 & 0.818662 & 89479 & midsize & 0 & 0 & 1 & 0 & 54713 & 24.4301 & 0.0409331 & ACLEGE1987 \\\\\n",
       "\t8 & ACLEGE & 4328 & 1988 & 6 & 4 & 0 & 1 & 1 & 1 & 17.7599 & 3067 & 0 & 163.2 & 161 & 189.4 & 68.3 & 108.7 & 19.0 & 70.77 & 3 & 0 & 5 & 0 & 0.524943 & 1.2936 & 1 & 118.3 & 0.785362 & 91066 & midsize & 0 & 0 & 1 & 0 & 70770 & 24.1927 & 0.0413348 & ACLEGE1988 \\\\\n",
       "\t9 & ACLEGE & 4422 & 1989 & 6 & 4 & 0 & 1 & 1 & 1 & 18.2258 & 3170 & 0 & 163.0 & 160 & 190.6 & 68.9 & 108.7 & 19.0 & 64.6 & 3 & 0 & 5 & 0 & 0.504732 & 1.31323 & 1 & 124.0 & 0.810081 & 92830 & midsize & 0 & 0 & 1 & 0 & 64600 & 23.4545 & 0.0426358 & ACLEGE1989 \\\\\n",
       "\t10 & ACLEGE & 5422 & 1990 & 6 & 2 & 0 & 1 & 1 & 1 & 18.9441 & 3139 & 0 & 2.7 & 160 & 188.0 & 68.7 & 106.5 & 19.0 & 53.666 & 3 & 0 & 5 & 0 & 0.509716 & 1.29156 & 1 & 130.7 & 0.875542 & 93347 & midsize & 1 & 0 & 0 & 0 & 53666 & 21.7008 & 0.0460811 & ACLEGE1990 \\\\\n",
       "\\end{tabular}\n"
      ],
      "text/plain": [
       "10×38 DataFrame. Omitted printing of 1 columns\n",
       "│ Row │ name   │ id    │ year  │ cy    │ dr    │ at    │ ps    │ air   │ drv   │ p       │ wt    │ dom   │ disp    │ hp    │ lng     │ wdt     │ wb      │ mpg     │ q       │ firmids │ euro  │ reli  │ dfi   │ hp2wt    │ size    │ japan │ cpi     │ gasprice │ nb_hh │ cat     │ door2 │ door3 │ door4 │ door5 │ sampleweight │ mpgd    │ dpm       │\n",
       "│     │ \u001b[90mString\u001b[39m │ \u001b[90mInt64\u001b[39m │ \u001b[90mInt64\u001b[39m │ \u001b[90mInt64\u001b[39m │ \u001b[90mInt64\u001b[39m │ \u001b[90mInt64\u001b[39m │ \u001b[90mInt64\u001b[39m │ \u001b[90mInt64\u001b[39m │ \u001b[90mInt64\u001b[39m │ \u001b[90mFloat64\u001b[39m │ \u001b[90mInt64\u001b[39m │ \u001b[90mInt64\u001b[39m │ \u001b[90mFloat64\u001b[39m │ \u001b[90mInt64\u001b[39m │ \u001b[90mFloat64\u001b[39m │ \u001b[90mFloat64\u001b[39m │ \u001b[90mFloat64\u001b[39m │ \u001b[90mFloat64\u001b[39m │ \u001b[90mFloat64\u001b[39m │ \u001b[90mInt64\u001b[39m   │ \u001b[90mInt64\u001b[39m │ \u001b[90mInt64\u001b[39m │ \u001b[90mInt64\u001b[39m │ \u001b[90mFloat64\u001b[39m  │ \u001b[90mFloat64\u001b[39m │ \u001b[90mInt64\u001b[39m │ \u001b[90mFloat64\u001b[39m │ \u001b[90mFloat64\u001b[39m  │ \u001b[90mInt64\u001b[39m │ \u001b[90mString\u001b[39m  │ \u001b[90mInt64\u001b[39m │ \u001b[90mInt64\u001b[39m │ \u001b[90mInt64\u001b[39m │ \u001b[90mInt64\u001b[39m │ \u001b[90mInt64\u001b[39m        │ \u001b[90mFloat64\u001b[39m │ \u001b[90mFloat64\u001b[39m   │\n",
       "├─────┼────────┼───────┼───────┼───────┼───────┼───────┼───────┼───────┼───────┼─────────┼───────┼───────┼─────────┼───────┼─────────┼─────────┼─────────┼─────────┼─────────┼─────────┼───────┼───────┼───────┼──────────┼─────────┼───────┼─────────┼──────────┼───────┼─────────┼───────┼───────┼───────┼───────┼──────────────┼─────────┼───────────┤\n",
       "│ 1   │ ACINTE │ 3735  │ 1986  │ 4     │ 3     │ 0     │ 1     │ 0     │ 1     │ 8.48358 │ 2249  │ 0     │ 97.0    │ 113   │ 168.5   │ 65.6    │ 96.5    │ 27.0    │ 27.807  │ 3       │ 0     │ 5     │ 0     │ 0.502446 │ 1.10536 │ 1     │ 109.6   │ 0.826794 │ 88458 │ compact │ 0     │ 1     │ 0     │ 0     │ 27807        │ 32.6562 │ 0.030622  │\n",
       "│ 2   │ ACINTE │ 4030  │ 1987  │ 4     │ 3     │ 0     │ 1     │ 0     │ 1     │ 8.6787  │ 2326  │ 0     │ 97.0    │ 113   │ 168.5   │ 65.6    │ 96.5    │ 26.0    │ 54.757  │ 3       │ 0     │ 5     │ 0     │ 0.485813 │ 1.10536 │ 1     │ 113.6   │ 0.818662 │ 89479 │ compact │ 0     │ 1     │ 0     │ 0     │ 54757        │ 31.7591 │ 0.031487  │\n",
       "│ 3   │ ACINTE │ 4327  │ 1988  │ 4     │ 5     │ 0     │ 1     │ 0     │ 1     │ 9.55199 │ 2390  │ 0     │ 97.0    │ 118   │ 171.5   │ 65.6    │ 99.2    │ 17.0    │ 57.468  │ 3       │ 0     │ 5     │ 0     │ 0.493724 │ 1.12504 │ 1     │ 118.3   │ 0.785362 │ 91066 │ compact │ 0     │ 0     │ 0     │ 1     │ 57468        │ 21.6461 │ 0.0461978 │\n",
       "│ 4   │ ACINTE │ 4421  │ 1989  │ 4     │ 2     │ 0     │ 1     │ 0     │ 1     │ 10.5403 │ 2313  │ 0     │ 97.0    │ 118   │ 168.7   │ 65.6    │ 96.5    │ 26.0    │ 77.4    │ 3       │ 0     │ 5     │ 0     │ 0.51016  │ 1.10667 │ 1     │ 124.0   │ 0.810081 │ 92830 │ compact │ 1     │ 0     │ 0     │ 0     │ 77400        │ 32.0956 │ 0.0311569 │\n",
       "│ 5   │ ACINTE │ 5421  │ 1990  │ 4     │ 2     │ 0     │ 1     │ 0     │ 1     │ 9.14308 │ 2549  │ 0     │ 1.8     │ 130   │ 172.9   │ 67.4    │ 100.4   │ 21.0    │ 83.599  │ 3       │ 0     │ 5     │ 0     │ 0.510004 │ 1.16535 │ 1     │ 130.7   │ 0.875542 │ 93347 │ compact │ 1     │ 0     │ 0     │ 0     │ 83599        │ 23.9851 │ 0.0416925 │\n",
       "│ 6   │ ACLEGE │ 3736  │ 1986  │ 6     │ 4     │ 0     │ 1     │ 1     │ 1     │ 17.6077 │ 2970  │ 0     │ 152.0   │ 151   │ 189.4   │ 68.3    │ 108.6   │ 20.0    │ 25.062  │ 3       │ 0     │ 5     │ 0     │ 0.508417 │ 1.2936  │ 1     │ 109.6   │ 0.826794 │ 88458 │ midsize │ 0     │ 0     │ 1     │ 0     │ 25062        │ 24.1898 │ 0.0413397 │\n",
       "│ 7   │ ACLEGE │ 4031  │ 1987  │ 6     │ 4     │ 0     │ 1     │ 1     │ 1     │ 17.8327 │ 3078  │ 0     │ 152.0   │ 151   │ 189.4   │ 68.3    │ 108.7   │ 20.0    │ 54.713  │ 3       │ 0     │ 5     │ 0     │ 0.490578 │ 1.2936  │ 1     │ 113.6   │ 0.818662 │ 89479 │ midsize │ 0     │ 0     │ 1     │ 0     │ 54713        │ 24.4301 │ 0.0409331 │\n",
       "│ 8   │ ACLEGE │ 4328  │ 1988  │ 6     │ 4     │ 0     │ 1     │ 1     │ 1     │ 17.7599 │ 3067  │ 0     │ 163.2   │ 161   │ 189.4   │ 68.3    │ 108.7   │ 19.0    │ 70.77   │ 3       │ 0     │ 5     │ 0     │ 0.524943 │ 1.2936  │ 1     │ 118.3   │ 0.785362 │ 91066 │ midsize │ 0     │ 0     │ 1     │ 0     │ 70770        │ 24.1927 │ 0.0413348 │\n",
       "│ 9   │ ACLEGE │ 4422  │ 1989  │ 6     │ 4     │ 0     │ 1     │ 1     │ 1     │ 18.2258 │ 3170  │ 0     │ 163.0   │ 160   │ 190.6   │ 68.9    │ 108.7   │ 19.0    │ 64.6    │ 3       │ 0     │ 5     │ 0     │ 0.504732 │ 1.31323 │ 1     │ 124.0   │ 0.810081 │ 92830 │ midsize │ 0     │ 0     │ 1     │ 0     │ 64600        │ 23.4545 │ 0.0426358 │\n",
       "│ 10  │ ACLEGE │ 5422  │ 1990  │ 6     │ 2     │ 0     │ 1     │ 1     │ 1     │ 18.9441 │ 3139  │ 0     │ 2.7     │ 160   │ 188.0   │ 68.7    │ 106.5   │ 19.0    │ 53.666  │ 3       │ 0     │ 5     │ 0     │ 0.509716 │ 1.29156 │ 1     │ 130.7   │ 0.875542 │ 93347 │ midsize │ 1     │ 0     │ 0     │ 0     │ 53666        │ 21.7008 │ 0.0460811 │"
      ]
     },
     "execution_count": 2,
     "metadata": {},
     "output_type": "execute_result"
    }
   ],
   "source": [
    "ENV[\"COLUMNS\"],ENV[\"LINES\"] = 350,50  #This is not specific to Julia, it's a Jupyter notebook environment variable\n",
    "\n",
    "#dataset = CSV.read(\"c:\\\\data\\\\BLP.csv\");  # <---- change this\n",
    "dataset = CSV.read(\"/Users/jinkim/Dropbox/2020 Summer/dropbox_RA_work/Berry/BLP.csv\")\n",
    "first(dataset,10)"
   ]
  },
  {
   "cell_type": "markdown",
   "metadata": {},
   "source": [
    "## Variable name/short description\n",
    "#### For detailed description, please see BLP(1995) section 7.1. (Data section)\n",
    "\n",
    "| Variable name    | Description                 | \n",
    "|------------------|-----------------------------|\n",
    "| name             | Car                         |\n",
    "| id               | Car ID                      |\n",
    "| ye               | Year                        |\n",
    "| cy               | Cylinder                    |\n",
    "| dr               | Number of Doors             | \n",
    "| at               | Automatic Transmission      |\n",
    "| ps               | Power Steering              |\n",
    "| air              | Air Conditioning            |\n",
    "| drv              | Front Wheel Drive           |\n",
    "| p                | Price (in \\$ 1000's)        |\n",
    "| wt               | Weight                      |\n",
    "| dom              | Domestic                    |\n",
    "| disp             | Engine Displacement         |\n",
    "| hp               | Horse Power                 |\n",
    "| lng              | Length                      |\n",
    "| wdt              | Width                       |\n",
    "| wb               | Wheelbase                   |\n",
    "| mpg              | Miles per Gallon            |\n",
    "| q                | Quantities                  |\n",
    "| firmids          | Firm ID                     |\n",
    "| euro             | Indicator for EURO car      |\n",
    "| reli             | Rating                      |\n",
    "| dfi              | Indicator for Digital Fuel Injection       |\n",
    "| hp2wt            | HP to Weight (ratio)        |\n",
    "| size             | Length X Width (/1000)      |\n",
    "| japan            | Japan                       |\n",
    "| cpi              | CPI                         |\n",
    "| gasprice         | Gas Price per gallon        |\n",
    "| nb_hh            | Size of Household (Potential Market Size)          |\n",
    "| cat              | Size Cateogry               |\n",
    "| cat              | (Using for nested logit)    |\n",
    "| door2            | I(door=2)                   |\n",
    "| door3            | I(door=3)                   |\n",
    "| door4            | I(door=4)                   |\n",
    "| door5            | I(door=5)                   |\n",
    "| sampleweight     | Weights                     |\n",
    "| mpgd             | Miles per gallon  (imputed from gas prices) |\n",
    "| dpm              | Dollars per miles (imputed from gas prices) |\n",
    "| modelid          | Car name                                    |\n",
    "\n",
    " \n"
   ]
  },
  {
   "cell_type": "code",
   "execution_count": 3,
   "metadata": {},
   "outputs": [
    {
     "data": {
      "text/html": [
       "<table class=\"data-frame\"><thead><tr><th></th><th>variable</th><th>mean</th><th>std</th><th>min</th><th>q25</th><th>median</th><th>q75</th><th>max</th><th>nunique</th><th>nmissing</th><th>first</th><th>last</th><th>eltype</th></tr><tr><th></th><th>Symbol</th><th>Union…</th><th>Union…</th><th>Any</th><th>Union…</th><th>Union…</th><th>Union…</th><th>Any</th><th>Union…</th><th>Nothing</th><th>Any</th><th>Any</th><th>DataType</th></tr></thead><tbody><p>38 rows × 13 columns</p><tr><th>1</th><td>name</td><td></td><td></td><td>ACINTE</td><td></td><td></td><td></td><td>YUYUGO</td><td>542</td><td></td><td>ACINTE</td><td>YUYUGO</td><td>String</td></tr><tr><th>2</th><td>id</td><td>2560.89</td><td>1517.55</td><td>129</td><td>1309.0</td><td>2325.0</td><td>3927.0</td><td>5592</td><td></td><td></td><td>3735</td><td>4506</td><td>Int64</td></tr><tr><th>3</th><td>year</td><td>1981.54</td><td>5.74082</td><td>1971</td><td>1977.0</td><td>1982.0</td><td>1987.0</td><td>1990</td><td></td><td></td><td>1986</td><td>1989</td><td>Int64</td></tr><tr><th>4</th><td>cy</td><td>5.3207</td><td>1.55712</td><td>0</td><td>4.0</td><td>4.0</td><td>6.0</td><td>12</td><td></td><td></td><td>4</td><td>4</td><td>Int64</td></tr><tr><th>5</th><td>dr</td><td>3.29409</td><td>0.965154</td><td>2</td><td>2.0</td><td>4.0</td><td>4.0</td><td>5</td><td></td><td></td><td>3</td><td>2</td><td>Int64</td></tr><tr><th>6</th><td>at</td><td>0.326116</td><td>0.468896</td><td>0</td><td>0.0</td><td>0.0</td><td>1.0</td><td>1</td><td></td><td></td><td>0</td><td>0</td><td>Int64</td></tr><tr><th>7</th><td>ps</td><td>0.533153</td><td>0.499012</td><td>0</td><td>0.0</td><td>1.0</td><td>1.0</td><td>1</td><td></td><td></td><td>1</td><td>0</td><td>Int64</td></tr><tr><th>8</th><td>air</td><td>0.241768</td><td>0.428251</td><td>0</td><td>0.0</td><td>0.0</td><td>0.0</td><td>1</td><td></td><td></td><td>0</td><td>0</td><td>Int64</td></tr><tr><th>9</th><td>drv</td><td>0.354984</td><td>0.478616</td><td>0</td><td>0.0</td><td>0.0</td><td>1.0</td><td>1</td><td></td><td></td><td>1</td><td>1</td><td>Int64</td></tr><tr><th>10</th><td>p</td><td>11.7614</td><td>8.64378</td><td>3.39327</td><td>6.71375</td><td>8.72865</td><td>13.0741</td><td>68.5968</td><td></td><td></td><td>8.48358</td><td>3.50726</td><td>Float64</td></tr><tr><th>11</th><td>wt</td><td>2930.47</td><td>722.366</td><td>1445</td><td>2375.0</td><td>2861.0</td><td>3383.0</td><td>5362</td><td></td><td></td><td>2249</td><td>1832</td><td>Int64</td></tr><tr><th>12</th><td>dom</td><td>0.589986</td><td>0.491947</td><td>0</td><td>0.0</td><td>1.0</td><td>1.0</td><td>1</td><td></td><td></td><td>0</td><td>0</td><td>Int64</td></tr><tr><th>13</th><td>disp</td><td>177.746</td><td>102.032</td><td>1.0</td><td>109.0</td><td>151.0</td><td>231.0</td><td>500.0</td><td></td><td></td><td>97.0</td><td>68.0</td><td>Float64</td></tr><tr><th>14</th><td>hp</td><td>117.005</td><td>46.6881</td><td>39</td><td>88.0</td><td>105.0</td><td>140.0</td><td>365</td><td></td><td></td><td>113</td><td>52</td><td>Int64</td></tr><tr><th>15</th><td>lng</td><td>186.705</td><td>20.0657</td><td>139.0</td><td>172.2</td><td>185.0</td><td>200.0</td><td>236.0</td><td></td><td></td><td>168.5</td><td>139.0</td><td>Float64</td></tr><tr><th>16</th><td>wdt</td><td>69.6557</td><td>5.29795</td><td>53.0</td><td>65.9</td><td>69.0</td><td>73.0</td><td>81.0</td><td></td><td></td><td>65.6</td><td>60.7</td><td>Float64</td></tr><tr><th>17</th><td>wb</td><td>104.616</td><td>9.817</td><td>14.3</td><td>97.0</td><td>103.4</td><td>110.8</td><td>212.1</td><td></td><td></td><td>96.5</td><td>84.6</td><td>Float64</td></tr><tr><th>18</th><td>mpg</td><td>20.9964</td><td>5.8107</td><td>9.13</td><td>17.0</td><td>20.0</td><td>25.0</td><td>53.0</td><td></td><td></td><td>27.0</td><td>28.0</td><td>Float64</td></tr><tr><th>19</th><td>q</td><td>78.804</td><td>89.0799</td><td>0.049</td><td>15.603</td><td>47.35</td><td>109.002</td><td>646.526</td><td></td><td></td><td>27.807</td><td>10.5</td><td>Float64</td></tr><tr><th>20</th><td>firmids</td><td>13.7438</td><td>6.25909</td><td>1</td><td>8.0</td><td>16.0</td><td>19.0</td><td>26</td><td></td><td></td><td>3</td><td>23</td><td>Int64</td></tr><tr><th>21</th><td>euro</td><td>0.23816</td><td>0.426053</td><td>0</td><td>0.0</td><td>0.0</td><td>0.0</td><td>1</td><td></td><td></td><td>0</td><td>1</td><td>Int64</td></tr><tr><th>22</th><td>reli</td><td>3.0433</td><td>1.29108</td><td>1</td><td>2.0</td><td>3.0</td><td>4.0</td><td>5</td><td></td><td></td><td>5</td><td>1</td><td>Int64</td></tr><tr><th>23</th><td>dfi</td><td>0.0135318</td><td>0.115563</td><td>0</td><td>0.0</td><td>0.0</td><td>0.0</td><td>1</td><td></td><td></td><td>0</td><td>0</td><td>Int64</td></tr><tr><th>24</th><td>hp2wt</td><td>0.394375</td><td>0.0966429</td><td>0.170455</td><td>0.336585</td><td>0.375049</td><td>0.427509</td><td>0.947581</td><td></td><td></td><td>0.502446</td><td>0.283843</td><td>Float64</td></tr><tr><th>25</th><td>size</td><td>1.31016</td><td>0.237637</td><td>0.756</td><td>1.13128</td><td>1.26983</td><td>1.4527</td><td>1.888</td><td></td><td></td><td>1.10536</td><td>0.84373</td><td>Float64</td></tr><tr><th>26</th><td>japan</td><td>0.171854</td><td>0.377338</td><td>0</td><td>0.0</td><td>0.0</td><td>0.0</td><td>1</td><td></td><td></td><td>1</td><td>0</td><td>Int64</td></tr><tr><th>27</th><td>cpi</td><td>88.3488</td><td>28.8772</td><td>40.5</td><td>60.6</td><td>96.5</td><td>113.6</td><td>130.7</td><td></td><td></td><td>109.6</td><td>124.0</td><td>Float64</td></tr><tr><th>28</th><td>gasprice</td><td>1.02727</td><td>0.206509</td><td>0.785362</td><td>0.826794</td><td>1.01788</td><td>1.13523</td><td>1.47121</td><td></td><td></td><td>0.826794</td><td>0.810081</td><td>Float64</td></tr><tr><th>29</th><td>nb_hh</td><td>81539.0</td><td>8770.71</td><td>64778</td><td>74142.0</td><td>83527.0</td><td>89479.0</td><td>93347</td><td></td><td></td><td>88458</td><td>92830</td><td>Int64</td></tr><tr><th>30</th><td>cat</td><td></td><td></td><td>compact</td><td></td><td></td><td></td><td>midsize</td><td>3</td><td></td><td>compact</td><td>compact</td><td>String</td></tr><tr><th>31</th><td>door2</td><td>0.341903</td><td>0.474454</td><td>0</td><td>0.0</td><td>0.0</td><td>1.0</td><td>1</td><td></td><td></td><td>0</td><td>1</td><td>Int64</td></tr><tr><th>32</th><td>door3</td><td>0.0419486</td><td>0.200517</td><td>0</td><td>0.0</td><td>0.0</td><td>0.0</td><td>1</td><td></td><td></td><td>1</td><td>0</td><td>Int64</td></tr><tr><th>33</th><td>door4</td><td>0.596301</td><td>0.490749</td><td>0</td><td>0.0</td><td>1.0</td><td>1.0</td><td>1</td><td></td><td></td><td>0</td><td>0</td><td>Int64</td></tr><tr><th>34</th><td>door5</td><td>0.0198466</td><td>0.139505</td><td>0</td><td>0.0</td><td>0.0</td><td>0.0</td><td>1</td><td></td><td></td><td>0</td><td>0</td><td>Int64</td></tr><tr><th>35</th><td>sampleweight</td><td>78804.0</td><td>89079.9</td><td>49</td><td>15603.0</td><td>47350.0</td><td>109002.0</td><td>646526</td><td></td><td></td><td>27807</td><td>10500</td><td>Int64</td></tr><tr><th>36</th><td>mpgd</td><td>21.1248</td><td>6.94301</td><td>8.61178</td><td>15.9838</td><td>20.5059</td><td>24.8007</td><td>65.4256</td><td></td><td></td><td>32.6562</td><td>34.5645</td><td>Float64</td></tr><tr><th>37</th><td>dpm</td><td>0.052389</td><td>0.0167817</td><td>0.0152845</td><td>0.0403215</td><td>0.0487664</td><td>0.0625634</td><td>0.11612</td><td></td><td></td><td>0.030622</td><td>0.0289315</td><td>Float64</td></tr><tr><th>38</th><td>model</td><td></td><td></td><td>ACINTE1986</td><td></td><td></td><td></td><td>YUYUGO1989</td><td>2172</td><td></td><td>ACINTE1986</td><td>YUYUGO1989</td><td>String</td></tr></tbody></table>"
      ],
      "text/latex": [
       "\\begin{tabular}{r|ccccccccccccc}\n",
       "\t& variable & mean & std & min & q25 & median & q75 & max & nunique & nmissing & first & last & eltype\\\\\n",
       "\t\\hline\n",
       "\t& Symbol & Union… & Union… & Any & Union… & Union… & Union… & Any & Union… & Nothing & Any & Any & DataType\\\\\n",
       "\t\\hline\n",
       "\t1 & name &  &  & ACINTE &  &  &  & YUYUGO & 542 &  & ACINTE & YUYUGO & String \\\\\n",
       "\t2 & id & 2560.89 & 1517.55 & 129 & 1309.0 & 2325.0 & 3927.0 & 5592 &  &  & 3735 & 4506 & Int64 \\\\\n",
       "\t3 & year & 1981.54 & 5.74082 & 1971 & 1977.0 & 1982.0 & 1987.0 & 1990 &  &  & 1986 & 1989 & Int64 \\\\\n",
       "\t4 & cy & 5.3207 & 1.55712 & 0 & 4.0 & 4.0 & 6.0 & 12 &  &  & 4 & 4 & Int64 \\\\\n",
       "\t5 & dr & 3.29409 & 0.965154 & 2 & 2.0 & 4.0 & 4.0 & 5 &  &  & 3 & 2 & Int64 \\\\\n",
       "\t6 & at & 0.326116 & 0.468896 & 0 & 0.0 & 0.0 & 1.0 & 1 &  &  & 0 & 0 & Int64 \\\\\n",
       "\t7 & ps & 0.533153 & 0.499012 & 0 & 0.0 & 1.0 & 1.0 & 1 &  &  & 1 & 0 & Int64 \\\\\n",
       "\t8 & air & 0.241768 & 0.428251 & 0 & 0.0 & 0.0 & 0.0 & 1 &  &  & 0 & 0 & Int64 \\\\\n",
       "\t9 & drv & 0.354984 & 0.478616 & 0 & 0.0 & 0.0 & 1.0 & 1 &  &  & 1 & 1 & Int64 \\\\\n",
       "\t10 & p & 11.7614 & 8.64378 & 3.39327 & 6.71375 & 8.72865 & 13.0741 & 68.5968 &  &  & 8.48358 & 3.50726 & Float64 \\\\\n",
       "\t11 & wt & 2930.47 & 722.366 & 1445 & 2375.0 & 2861.0 & 3383.0 & 5362 &  &  & 2249 & 1832 & Int64 \\\\\n",
       "\t12 & dom & 0.589986 & 0.491947 & 0 & 0.0 & 1.0 & 1.0 & 1 &  &  & 0 & 0 & Int64 \\\\\n",
       "\t13 & disp & 177.746 & 102.032 & 1.0 & 109.0 & 151.0 & 231.0 & 500.0 &  &  & 97.0 & 68.0 & Float64 \\\\\n",
       "\t14 & hp & 117.005 & 46.6881 & 39 & 88.0 & 105.0 & 140.0 & 365 &  &  & 113 & 52 & Int64 \\\\\n",
       "\t15 & lng & 186.705 & 20.0657 & 139.0 & 172.2 & 185.0 & 200.0 & 236.0 &  &  & 168.5 & 139.0 & Float64 \\\\\n",
       "\t16 & wdt & 69.6557 & 5.29795 & 53.0 & 65.9 & 69.0 & 73.0 & 81.0 &  &  & 65.6 & 60.7 & Float64 \\\\\n",
       "\t17 & wb & 104.616 & 9.817 & 14.3 & 97.0 & 103.4 & 110.8 & 212.1 &  &  & 96.5 & 84.6 & Float64 \\\\\n",
       "\t18 & mpg & 20.9964 & 5.8107 & 9.13 & 17.0 & 20.0 & 25.0 & 53.0 &  &  & 27.0 & 28.0 & Float64 \\\\\n",
       "\t19 & q & 78.804 & 89.0799 & 0.049 & 15.603 & 47.35 & 109.002 & 646.526 &  &  & 27.807 & 10.5 & Float64 \\\\\n",
       "\t20 & firmids & 13.7438 & 6.25909 & 1 & 8.0 & 16.0 & 19.0 & 26 &  &  & 3 & 23 & Int64 \\\\\n",
       "\t21 & euro & 0.23816 & 0.426053 & 0 & 0.0 & 0.0 & 0.0 & 1 &  &  & 0 & 1 & Int64 \\\\\n",
       "\t22 & reli & 3.0433 & 1.29108 & 1 & 2.0 & 3.0 & 4.0 & 5 &  &  & 5 & 1 & Int64 \\\\\n",
       "\t23 & dfi & 0.0135318 & 0.115563 & 0 & 0.0 & 0.0 & 0.0 & 1 &  &  & 0 & 0 & Int64 \\\\\n",
       "\t24 & hp2wt & 0.394375 & 0.0966429 & 0.170455 & 0.336585 & 0.375049 & 0.427509 & 0.947581 &  &  & 0.502446 & 0.283843 & Float64 \\\\\n",
       "\t25 & size & 1.31016 & 0.237637 & 0.756 & 1.13128 & 1.26983 & 1.4527 & 1.888 &  &  & 1.10536 & 0.84373 & Float64 \\\\\n",
       "\t26 & japan & 0.171854 & 0.377338 & 0 & 0.0 & 0.0 & 0.0 & 1 &  &  & 1 & 0 & Int64 \\\\\n",
       "\t27 & cpi & 88.3488 & 28.8772 & 40.5 & 60.6 & 96.5 & 113.6 & 130.7 &  &  & 109.6 & 124.0 & Float64 \\\\\n",
       "\t28 & gasprice & 1.02727 & 0.206509 & 0.785362 & 0.826794 & 1.01788 & 1.13523 & 1.47121 &  &  & 0.826794 & 0.810081 & Float64 \\\\\n",
       "\t29 & nb\\_hh & 81539.0 & 8770.71 & 64778 & 74142.0 & 83527.0 & 89479.0 & 93347 &  &  & 88458 & 92830 & Int64 \\\\\n",
       "\t30 & cat &  &  & compact &  &  &  & midsize & 3 &  & compact & compact & String \\\\\n",
       "\t31 & door2 & 0.341903 & 0.474454 & 0 & 0.0 & 0.0 & 1.0 & 1 &  &  & 0 & 1 & Int64 \\\\\n",
       "\t32 & door3 & 0.0419486 & 0.200517 & 0 & 0.0 & 0.0 & 0.0 & 1 &  &  & 1 & 0 & Int64 \\\\\n",
       "\t33 & door4 & 0.596301 & 0.490749 & 0 & 0.0 & 1.0 & 1.0 & 1 &  &  & 0 & 0 & Int64 \\\\\n",
       "\t34 & door5 & 0.0198466 & 0.139505 & 0 & 0.0 & 0.0 & 0.0 & 1 &  &  & 0 & 0 & Int64 \\\\\n",
       "\t35 & sampleweight & 78804.0 & 89079.9 & 49 & 15603.0 & 47350.0 & 109002.0 & 646526 &  &  & 27807 & 10500 & Int64 \\\\\n",
       "\t36 & mpgd & 21.1248 & 6.94301 & 8.61178 & 15.9838 & 20.5059 & 24.8007 & 65.4256 &  &  & 32.6562 & 34.5645 & Float64 \\\\\n",
       "\t37 & dpm & 0.052389 & 0.0167817 & 0.0152845 & 0.0403215 & 0.0487664 & 0.0625634 & 0.11612 &  &  & 0.030622 & 0.0289315 & Float64 \\\\\n",
       "\t38 & model &  &  & ACINTE1986 &  &  &  & YUYUGO1989 & 2172 &  & ACINTE1986 & YUYUGO1989 & String \\\\\n",
       "\\end{tabular}\n"
      ],
      "text/plain": [
       "38×13 DataFrame\n",
       "│ Row │ variable     │ mean      │ std       │ min        │ q25       │ median    │ q75       │ max        │ nunique │ nmissing │ first      │ last       │ eltype   │\n",
       "│     │ \u001b[90mSymbol\u001b[39m       │ \u001b[90mUnion…\u001b[39m    │ \u001b[90mUnion…\u001b[39m    │ \u001b[90mAny\u001b[39m        │ \u001b[90mUnion…\u001b[39m    │ \u001b[90mUnion…\u001b[39m    │ \u001b[90mUnion…\u001b[39m    │ \u001b[90mAny\u001b[39m        │ \u001b[90mUnion…\u001b[39m  │ \u001b[90mNothing\u001b[39m  │ \u001b[90mAny\u001b[39m        │ \u001b[90mAny\u001b[39m        │ \u001b[90mDataType\u001b[39m │\n",
       "├─────┼──────────────┼───────────┼───────────┼────────────┼───────────┼───────────┼───────────┼────────────┼─────────┼──────────┼────────────┼────────────┼──────────┤\n",
       "│ 1   │ name         │           │           │ ACINTE     │           │           │           │ YUYUGO     │ 542     │          │ ACINTE     │ YUYUGO     │ String   │\n",
       "│ 2   │ id           │ 2560.89   │ 1517.55   │ 129        │ 1309.0    │ 2325.0    │ 3927.0    │ 5592       │         │          │ 3735       │ 4506       │ Int64    │\n",
       "│ 3   │ year         │ 1981.54   │ 5.74082   │ 1971       │ 1977.0    │ 1982.0    │ 1987.0    │ 1990       │         │          │ 1986       │ 1989       │ Int64    │\n",
       "│ 4   │ cy           │ 5.3207    │ 1.55712   │ 0          │ 4.0       │ 4.0       │ 6.0       │ 12         │         │          │ 4          │ 4          │ Int64    │\n",
       "│ 5   │ dr           │ 3.29409   │ 0.965154  │ 2          │ 2.0       │ 4.0       │ 4.0       │ 5          │         │          │ 3          │ 2          │ Int64    │\n",
       "│ 6   │ at           │ 0.326116  │ 0.468896  │ 0          │ 0.0       │ 0.0       │ 1.0       │ 1          │         │          │ 0          │ 0          │ Int64    │\n",
       "│ 7   │ ps           │ 0.533153  │ 0.499012  │ 0          │ 0.0       │ 1.0       │ 1.0       │ 1          │         │          │ 1          │ 0          │ Int64    │\n",
       "│ 8   │ air          │ 0.241768  │ 0.428251  │ 0          │ 0.0       │ 0.0       │ 0.0       │ 1          │         │          │ 0          │ 0          │ Int64    │\n",
       "│ 9   │ drv          │ 0.354984  │ 0.478616  │ 0          │ 0.0       │ 0.0       │ 1.0       │ 1          │         │          │ 1          │ 1          │ Int64    │\n",
       "│ 10  │ p            │ 11.7614   │ 8.64378   │ 3.39327    │ 6.71375   │ 8.72865   │ 13.0741   │ 68.5968    │         │          │ 8.48358    │ 3.50726    │ Float64  │\n",
       "│ 11  │ wt           │ 2930.47   │ 722.366   │ 1445       │ 2375.0    │ 2861.0    │ 3383.0    │ 5362       │         │          │ 2249       │ 1832       │ Int64    │\n",
       "│ 12  │ dom          │ 0.589986  │ 0.491947  │ 0          │ 0.0       │ 1.0       │ 1.0       │ 1          │         │          │ 0          │ 0          │ Int64    │\n",
       "│ 13  │ disp         │ 177.746   │ 102.032   │ 1.0        │ 109.0     │ 151.0     │ 231.0     │ 500.0      │         │          │ 97.0       │ 68.0       │ Float64  │\n",
       "│ 14  │ hp           │ 117.005   │ 46.6881   │ 39         │ 88.0      │ 105.0     │ 140.0     │ 365        │         │          │ 113        │ 52         │ Int64    │\n",
       "│ 15  │ lng          │ 186.705   │ 20.0657   │ 139.0      │ 172.2     │ 185.0     │ 200.0     │ 236.0      │         │          │ 168.5      │ 139.0      │ Float64  │\n",
       "│ 16  │ wdt          │ 69.6557   │ 5.29795   │ 53.0       │ 65.9      │ 69.0      │ 73.0      │ 81.0       │         │          │ 65.6       │ 60.7       │ Float64  │\n",
       "│ 17  │ wb           │ 104.616   │ 9.817     │ 14.3       │ 97.0      │ 103.4     │ 110.8     │ 212.1      │         │          │ 96.5       │ 84.6       │ Float64  │\n",
       "│ 18  │ mpg          │ 20.9964   │ 5.8107    │ 9.13       │ 17.0      │ 20.0      │ 25.0      │ 53.0       │         │          │ 27.0       │ 28.0       │ Float64  │\n",
       "│ 19  │ q            │ 78.804    │ 89.0799   │ 0.049      │ 15.603    │ 47.35     │ 109.002   │ 646.526    │         │          │ 27.807     │ 10.5       │ Float64  │\n",
       "│ 20  │ firmids      │ 13.7438   │ 6.25909   │ 1          │ 8.0       │ 16.0      │ 19.0      │ 26         │         │          │ 3          │ 23         │ Int64    │\n",
       "│ 21  │ euro         │ 0.23816   │ 0.426053  │ 0          │ 0.0       │ 0.0       │ 0.0       │ 1          │         │          │ 0          │ 1          │ Int64    │\n",
       "│ 22  │ reli         │ 3.0433    │ 1.29108   │ 1          │ 2.0       │ 3.0       │ 4.0       │ 5          │         │          │ 5          │ 1          │ Int64    │\n",
       "│ 23  │ dfi          │ 0.0135318 │ 0.115563  │ 0          │ 0.0       │ 0.0       │ 0.0       │ 1          │         │          │ 0          │ 0          │ Int64    │\n",
       "│ 24  │ hp2wt        │ 0.394375  │ 0.0966429 │ 0.170455   │ 0.336585  │ 0.375049  │ 0.427509  │ 0.947581   │         │          │ 0.502446   │ 0.283843   │ Float64  │\n",
       "│ 25  │ size         │ 1.31016   │ 0.237637  │ 0.756      │ 1.13128   │ 1.26983   │ 1.4527    │ 1.888      │         │          │ 1.10536    │ 0.84373    │ Float64  │\n",
       "│ 26  │ japan        │ 0.171854  │ 0.377338  │ 0          │ 0.0       │ 0.0       │ 0.0       │ 1          │         │          │ 1          │ 0          │ Int64    │\n",
       "│ 27  │ cpi          │ 88.3488   │ 28.8772   │ 40.5       │ 60.6      │ 96.5      │ 113.6     │ 130.7      │         │          │ 109.6      │ 124.0      │ Float64  │\n",
       "│ 28  │ gasprice     │ 1.02727   │ 0.206509  │ 0.785362   │ 0.826794  │ 1.01788   │ 1.13523   │ 1.47121    │         │          │ 0.826794   │ 0.810081   │ Float64  │\n",
       "│ 29  │ nb_hh        │ 81539.0   │ 8770.71   │ 64778      │ 74142.0   │ 83527.0   │ 89479.0   │ 93347      │         │          │ 88458      │ 92830      │ Int64    │\n",
       "│ 30  │ cat          │           │           │ compact    │           │           │           │ midsize    │ 3       │          │ compact    │ compact    │ String   │\n",
       "│ 31  │ door2        │ 0.341903  │ 0.474454  │ 0          │ 0.0       │ 0.0       │ 1.0       │ 1          │         │          │ 0          │ 1          │ Int64    │\n",
       "│ 32  │ door3        │ 0.0419486 │ 0.200517  │ 0          │ 0.0       │ 0.0       │ 0.0       │ 1          │         │          │ 1          │ 0          │ Int64    │\n",
       "│ 33  │ door4        │ 0.596301  │ 0.490749  │ 0          │ 0.0       │ 1.0       │ 1.0       │ 1          │         │          │ 0          │ 0          │ Int64    │\n",
       "│ 34  │ door5        │ 0.0198466 │ 0.139505  │ 0          │ 0.0       │ 0.0       │ 0.0       │ 1          │         │          │ 0          │ 0          │ Int64    │\n",
       "│ 35  │ sampleweight │ 78804.0   │ 89079.9   │ 49         │ 15603.0   │ 47350.0   │ 109002.0  │ 646526     │         │          │ 27807      │ 10500      │ Int64    │\n",
       "│ 36  │ mpgd         │ 21.1248   │ 6.94301   │ 8.61178    │ 15.9838   │ 20.5059   │ 24.8007   │ 65.4256    │         │          │ 32.6562    │ 34.5645    │ Float64  │\n",
       "│ 37  │ dpm          │ 0.052389  │ 0.0167817 │ 0.0152845  │ 0.0403215 │ 0.0487664 │ 0.0625634 │ 0.11612    │         │          │ 0.030622   │ 0.0289315  │ Float64  │\n",
       "│ 38  │ model        │           │           │ ACINTE1986 │           │           │           │ YUYUGO1989 │ 2172    │          │ ACINTE1986 │ YUYUGO1989 │ String   │"
      ]
     },
     "execution_count": 3,
     "metadata": {},
     "output_type": "execute_result"
    }
   ],
   "source": [
    "#summary statistics\n",
    "describe(dataset,:all)"
   ]
  },
  {
   "cell_type": "code",
   "execution_count": 4,
   "metadata": {},
   "outputs": [
    {
     "name": "stderr",
     "output_type": "stream",
     "text": [
      "┌ Warning: `aggregate(d, cols, f, sort=false, skipmissing=false)` is deprecated. Instead use combine(groupby(d, cols, sort=false, skipmissing=false), names(d, Not(cols)) .=> f)`\n",
      "│   caller = top-level scope at In[4]:6\n",
      "└ @ Core In[4]:6\n"
     ]
    },
    {
     "data": {
      "text/html": [
       "<table class=\"data-frame\"><thead><tr><th></th><th>year</th><th>cy_mean</th><th>dr_mean</th><th>at_mean</th><th>ps_mean</th><th>air_mean</th><th>drv_mean</th><th>p_mean</th><th>wt_mean</th><th>dom_mean</th><th>disp_mean</th><th>hp_mean</th><th>lng_mean</th><th>wdt_mean</th><th>wb_mean</th><th>mpg_mean</th></tr><tr><th></th><th>Int64</th><th>Float64</th><th>Float64</th><th>Float64</th><th>Float64</th><th>Float64</th><th>Float64</th><th>Float64</th><th>Float64</th><th>Float64</th><th>Float64</th><th>Float64</th><th>Float64</th><th>Float64</th><th>Float64</th><th>Float64</th></tr></thead><tbody><p>20 rows × 16 columns</p><tr><th>1</th><td>1986</td><td>4.94615</td><td>3.43846</td><td>0.330769</td><td>0.684615</td><td>0.323077</td><td>0.576923</td><td>11.7826</td><td>2733.55</td><td>0.569231</td><td>160.212</td><td>110.192</td><td>180.583</td><td>67.9892</td><td>101.829</td><td>23.5546</td></tr><tr><th>2</th><td>1987</td><td>5.0</td><td>3.43357</td><td>0.321678</td><td>0.72028</td><td>0.391608</td><td>0.615385</td><td>13.4363</td><td>2785.15</td><td>0.538462</td><td>163.357</td><td>117.028</td><td>180.416</td><td>67.9965</td><td>101.909</td><td>22.6503</td></tr><tr><th>3</th><td>1988</td><td>5.09333</td><td>3.44</td><td>0.4</td><td>0.766667</td><td>0.446667</td><td>0.613333</td><td>14.8857</td><td>2847.8</td><td>0.533333</td><td>163.836</td><td>125.053</td><td>181.756</td><td>68.2853</td><td>102.443</td><td>21.88</td></tr><tr><th>4</th><td>1989</td><td>4.9932</td><td>2.9932</td><td>0.37415</td><td>0.795918</td><td>0.503401</td><td>0.680272</td><td>16.6905</td><td>2895.97</td><td>0.496599</td><td>163.503</td><td>133.837</td><td>181.348</td><td>68.5537</td><td>103.037</td><td>21.7891</td></tr><tr><th>5</th><td>1990</td><td>5.0687</td><td>2.85496</td><td>0.40458</td><td>0.816794</td><td>0.458015</td><td>0.717557</td><td>14.0384</td><td>2923.47</td><td>0.51145</td><td>2.7084</td><td>133.588</td><td>182.156</td><td>68.655</td><td>101.843</td><td>21.8168</td></tr><tr><th>6</th><td>1971</td><td>6.04348</td><td>3.36957</td><td>0.152174</td><td>0.163043</td><td>0.0</td><td>0.0</td><td>8.85633</td><td>3176.08</td><td>0.684783</td><td>245.548</td><td>171.891</td><td>195.446</td><td>72.9891</td><td>110.787</td><td>17.1995</td></tr><tr><th>7</th><td>1975</td><td>5.86022</td><td>3.26882</td><td>0.311828</td><td>0.387097</td><td>0.107527</td><td>0.0752688</td><td>9.64184</td><td>3328.6</td><td>0.645161</td><td>238.5</td><td>119.473</td><td>195.312</td><td>71.7419</td><td>108.129</td><td>16.2688</td></tr><tr><th>8</th><td>1976</td><td>5.62626</td><td>3.28283</td><td>0.282828</td><td>0.343434</td><td>0.10101</td><td>0.0909091</td><td>9.49007</td><td>3159.45</td><td>0.616162</td><td>218.66</td><td>112.889</td><td>192.515</td><td>70.8889</td><td>106.833</td><td>18.5556</td></tr><tr><th>9</th><td>1977</td><td>5.61053</td><td>3.24211</td><td>0.294737</td><td>0.378947</td><td>0.0842105</td><td>0.136842</td><td>9.86429</td><td>3070.06</td><td>0.610526</td><td>204.085</td><td>109.463</td><td>190.747</td><td>70.4947</td><td>106.038</td><td>19.7789</td></tr><tr><th>10</th><td>1980</td><td>5.23301</td><td>3.35922</td><td>0.252427</td><td>0.359223</td><td>0.174757</td><td>0.252427</td><td>10.7269</td><td>2776.99</td><td>0.601942</td><td>179.446</td><td>99.699</td><td>185.398</td><td>69.4854</td><td>103.684</td><td>21.6699</td></tr><tr><th>11</th><td>1981</td><td>5.16379</td><td>3.21552</td><td>0.336207</td><td>0.491379</td><td>0.241379</td><td>0.232759</td><td>13.0352</td><td>2819.37</td><td>0.517241</td><td>171.325</td><td>102.017</td><td>186.56</td><td>69.3276</td><td>103.929</td><td>22.5</td></tr><tr><th>12</th><td>1982</td><td>4.98182</td><td>3.32727</td><td>0.336364</td><td>0.490909</td><td>0.236364</td><td>0.381818</td><td>11.5913</td><td>2747.25</td><td>0.6</td><td>158.536</td><td>98.3</td><td>185.273</td><td>68.8636</td><td>103.151</td><td>23.7727</td></tr><tr><th>13</th><td>1983</td><td>4.88696</td><td>3.30435</td><td>0.33913</td><td>0.530435</td><td>0.2</td><td>0.434783</td><td>11.1408</td><td>2736.82</td><td>0.617391</td><td>156.169</td><td>97.8522</td><td>184.087</td><td>68.7913</td><td>102.857</td><td>25.1478</td></tr><tr><th>14</th><td>1984</td><td>4.92035</td><td>3.35398</td><td>0.345133</td><td>0.663717</td><td>0.283186</td><td>0.477876</td><td>11.6477</td><td>2765.41</td><td>0.59292</td><td>166.069</td><td>107.265</td><td>183.822</td><td>68.4637</td><td>102.735</td><td>24.1504</td></tr><tr><th>15</th><td>1985</td><td>4.96324</td><td>3.31618</td><td>0.345588</td><td>0.669118</td><td>0.330882</td><td>0.522059</td><td>12.4764</td><td>2759.99</td><td>0.566176</td><td>163.106</td><td>108.081</td><td>182.096</td><td>68.1625</td><td>102.349</td><td>22.3868</td></tr><tr><th>16</th><td>1978</td><td>5.57895</td><td>3.33684</td><td>0.263158</td><td>0.347368</td><td>0.0947368</td><td>0.178947</td><td>10.6021</td><td>2964.8</td><td>0.642105</td><td>199.494</td><td>107.695</td><td>189.347</td><td>70.3579</td><td>105.337</td><td>19.9263</td></tr><tr><th>17</th><td>1979</td><td>5.33333</td><td>3.28431</td><td>0.235294</td><td>0.313725</td><td>0.0882353</td><td>0.215686</td><td>10.4513</td><td>2840.49</td><td>0.598039</td><td>184.635</td><td>104.108</td><td>186.559</td><td>69.5</td><td>103.849</td><td>20.1078</td></tr><tr><th>18</th><td>1972</td><td>6.20225</td><td>3.44944</td><td>0.337079</td><td>0.348315</td><td>0.0449438</td><td>0.0</td><td>9.04282</td><td>3253.78</td><td>0.696629</td><td>256.947</td><td>134.348</td><td>196.775</td><td>73.3146</td><td>111.563</td><td>16.3317</td></tr><tr><th>19</th><td>1973</td><td>6.37209</td><td>3.44186</td><td>0.395349</td><td>0.372093</td><td>0.0697674</td><td>0.0</td><td>9.0452</td><td>3337.42</td><td>0.709302</td><td>261.949</td><td>131.256</td><td>198.384</td><td>73.0233</td><td>111.215</td><td>16.2506</td></tr><tr><th>20</th><td>1974</td><td>6.0</td><td>3.30556</td><td>0.375</td><td>0.375</td><td>0.125</td><td>0.0</td><td>9.25473</td><td>3268.29</td><td>0.652778</td><td>239.179</td><td>122.556</td><td>196.194</td><td>71.9306</td><td>108.874</td><td>16.3329</td></tr></tbody></table>"
      ],
      "text/latex": [
       "\\begin{tabular}{r|cccccccccccccccc}\n",
       "\t& year & cy\\_mean & dr\\_mean & at\\_mean & ps\\_mean & air\\_mean & drv\\_mean & p\\_mean & wt\\_mean & dom\\_mean & disp\\_mean & hp\\_mean & lng\\_mean & wdt\\_mean & wb\\_mean & mpg\\_mean\\\\\n",
       "\t\\hline\n",
       "\t& Int64 & Float64 & Float64 & Float64 & Float64 & Float64 & Float64 & Float64 & Float64 & Float64 & Float64 & Float64 & Float64 & Float64 & Float64 & Float64\\\\\n",
       "\t\\hline\n",
       "\t1 & 1986 & 4.94615 & 3.43846 & 0.330769 & 0.684615 & 0.323077 & 0.576923 & 11.7826 & 2733.55 & 0.569231 & 160.212 & 110.192 & 180.583 & 67.9892 & 101.829 & 23.5546 \\\\\n",
       "\t2 & 1987 & 5.0 & 3.43357 & 0.321678 & 0.72028 & 0.391608 & 0.615385 & 13.4363 & 2785.15 & 0.538462 & 163.357 & 117.028 & 180.416 & 67.9965 & 101.909 & 22.6503 \\\\\n",
       "\t3 & 1988 & 5.09333 & 3.44 & 0.4 & 0.766667 & 0.446667 & 0.613333 & 14.8857 & 2847.8 & 0.533333 & 163.836 & 125.053 & 181.756 & 68.2853 & 102.443 & 21.88 \\\\\n",
       "\t4 & 1989 & 4.9932 & 2.9932 & 0.37415 & 0.795918 & 0.503401 & 0.680272 & 16.6905 & 2895.97 & 0.496599 & 163.503 & 133.837 & 181.348 & 68.5537 & 103.037 & 21.7891 \\\\\n",
       "\t5 & 1990 & 5.0687 & 2.85496 & 0.40458 & 0.816794 & 0.458015 & 0.717557 & 14.0384 & 2923.47 & 0.51145 & 2.7084 & 133.588 & 182.156 & 68.655 & 101.843 & 21.8168 \\\\\n",
       "\t6 & 1971 & 6.04348 & 3.36957 & 0.152174 & 0.163043 & 0.0 & 0.0 & 8.85633 & 3176.08 & 0.684783 & 245.548 & 171.891 & 195.446 & 72.9891 & 110.787 & 17.1995 \\\\\n",
       "\t7 & 1975 & 5.86022 & 3.26882 & 0.311828 & 0.387097 & 0.107527 & 0.0752688 & 9.64184 & 3328.6 & 0.645161 & 238.5 & 119.473 & 195.312 & 71.7419 & 108.129 & 16.2688 \\\\\n",
       "\t8 & 1976 & 5.62626 & 3.28283 & 0.282828 & 0.343434 & 0.10101 & 0.0909091 & 9.49007 & 3159.45 & 0.616162 & 218.66 & 112.889 & 192.515 & 70.8889 & 106.833 & 18.5556 \\\\\n",
       "\t9 & 1977 & 5.61053 & 3.24211 & 0.294737 & 0.378947 & 0.0842105 & 0.136842 & 9.86429 & 3070.06 & 0.610526 & 204.085 & 109.463 & 190.747 & 70.4947 & 106.038 & 19.7789 \\\\\n",
       "\t10 & 1980 & 5.23301 & 3.35922 & 0.252427 & 0.359223 & 0.174757 & 0.252427 & 10.7269 & 2776.99 & 0.601942 & 179.446 & 99.699 & 185.398 & 69.4854 & 103.684 & 21.6699 \\\\\n",
       "\t11 & 1981 & 5.16379 & 3.21552 & 0.336207 & 0.491379 & 0.241379 & 0.232759 & 13.0352 & 2819.37 & 0.517241 & 171.325 & 102.017 & 186.56 & 69.3276 & 103.929 & 22.5 \\\\\n",
       "\t12 & 1982 & 4.98182 & 3.32727 & 0.336364 & 0.490909 & 0.236364 & 0.381818 & 11.5913 & 2747.25 & 0.6 & 158.536 & 98.3 & 185.273 & 68.8636 & 103.151 & 23.7727 \\\\\n",
       "\t13 & 1983 & 4.88696 & 3.30435 & 0.33913 & 0.530435 & 0.2 & 0.434783 & 11.1408 & 2736.82 & 0.617391 & 156.169 & 97.8522 & 184.087 & 68.7913 & 102.857 & 25.1478 \\\\\n",
       "\t14 & 1984 & 4.92035 & 3.35398 & 0.345133 & 0.663717 & 0.283186 & 0.477876 & 11.6477 & 2765.41 & 0.59292 & 166.069 & 107.265 & 183.822 & 68.4637 & 102.735 & 24.1504 \\\\\n",
       "\t15 & 1985 & 4.96324 & 3.31618 & 0.345588 & 0.669118 & 0.330882 & 0.522059 & 12.4764 & 2759.99 & 0.566176 & 163.106 & 108.081 & 182.096 & 68.1625 & 102.349 & 22.3868 \\\\\n",
       "\t16 & 1978 & 5.57895 & 3.33684 & 0.263158 & 0.347368 & 0.0947368 & 0.178947 & 10.6021 & 2964.8 & 0.642105 & 199.494 & 107.695 & 189.347 & 70.3579 & 105.337 & 19.9263 \\\\\n",
       "\t17 & 1979 & 5.33333 & 3.28431 & 0.235294 & 0.313725 & 0.0882353 & 0.215686 & 10.4513 & 2840.49 & 0.598039 & 184.635 & 104.108 & 186.559 & 69.5 & 103.849 & 20.1078 \\\\\n",
       "\t18 & 1972 & 6.20225 & 3.44944 & 0.337079 & 0.348315 & 0.0449438 & 0.0 & 9.04282 & 3253.78 & 0.696629 & 256.947 & 134.348 & 196.775 & 73.3146 & 111.563 & 16.3317 \\\\\n",
       "\t19 & 1973 & 6.37209 & 3.44186 & 0.395349 & 0.372093 & 0.0697674 & 0.0 & 9.0452 & 3337.42 & 0.709302 & 261.949 & 131.256 & 198.384 & 73.0233 & 111.215 & 16.2506 \\\\\n",
       "\t20 & 1974 & 6.0 & 3.30556 & 0.375 & 0.375 & 0.125 & 0.0 & 9.25473 & 3268.29 & 0.652778 & 239.179 & 122.556 & 196.194 & 71.9306 & 108.874 & 16.3329 \\\\\n",
       "\\end{tabular}\n"
      ],
      "text/plain": [
       "20×16 DataFrame\n",
       "│ Row │ year  │ cy_mean │ dr_mean │ at_mean  │ ps_mean  │ air_mean  │ drv_mean  │ p_mean  │ wt_mean │ dom_mean │ disp_mean │ hp_mean │ lng_mean │ wdt_mean │ wb_mean │ mpg_mean │\n",
       "│     │ \u001b[90mInt64\u001b[39m │ \u001b[90mFloat64\u001b[39m │ \u001b[90mFloat64\u001b[39m │ \u001b[90mFloat64\u001b[39m  │ \u001b[90mFloat64\u001b[39m  │ \u001b[90mFloat64\u001b[39m   │ \u001b[90mFloat64\u001b[39m   │ \u001b[90mFloat64\u001b[39m │ \u001b[90mFloat64\u001b[39m │ \u001b[90mFloat64\u001b[39m  │ \u001b[90mFloat64\u001b[39m   │ \u001b[90mFloat64\u001b[39m │ \u001b[90mFloat64\u001b[39m  │ \u001b[90mFloat64\u001b[39m  │ \u001b[90mFloat64\u001b[39m │ \u001b[90mFloat64\u001b[39m  │\n",
       "├─────┼───────┼─────────┼─────────┼──────────┼──────────┼───────────┼───────────┼─────────┼─────────┼──────────┼───────────┼─────────┼──────────┼──────────┼─────────┼──────────┤\n",
       "│ 1   │ 1986  │ 4.94615 │ 3.43846 │ 0.330769 │ 0.684615 │ 0.323077  │ 0.576923  │ 11.7826 │ 2733.55 │ 0.569231 │ 160.212   │ 110.192 │ 180.583  │ 67.9892  │ 101.829 │ 23.5546  │\n",
       "│ 2   │ 1987  │ 5.0     │ 3.43357 │ 0.321678 │ 0.72028  │ 0.391608  │ 0.615385  │ 13.4363 │ 2785.15 │ 0.538462 │ 163.357   │ 117.028 │ 180.416  │ 67.9965  │ 101.909 │ 22.6503  │\n",
       "│ 3   │ 1988  │ 5.09333 │ 3.44    │ 0.4      │ 0.766667 │ 0.446667  │ 0.613333  │ 14.8857 │ 2847.8  │ 0.533333 │ 163.836   │ 125.053 │ 181.756  │ 68.2853  │ 102.443 │ 21.88    │\n",
       "│ 4   │ 1989  │ 4.9932  │ 2.9932  │ 0.37415  │ 0.795918 │ 0.503401  │ 0.680272  │ 16.6905 │ 2895.97 │ 0.496599 │ 163.503   │ 133.837 │ 181.348  │ 68.5537  │ 103.037 │ 21.7891  │\n",
       "│ 5   │ 1990  │ 5.0687  │ 2.85496 │ 0.40458  │ 0.816794 │ 0.458015  │ 0.717557  │ 14.0384 │ 2923.47 │ 0.51145  │ 2.7084    │ 133.588 │ 182.156  │ 68.655   │ 101.843 │ 21.8168  │\n",
       "│ 6   │ 1971  │ 6.04348 │ 3.36957 │ 0.152174 │ 0.163043 │ 0.0       │ 0.0       │ 8.85633 │ 3176.08 │ 0.684783 │ 245.548   │ 171.891 │ 195.446  │ 72.9891  │ 110.787 │ 17.1995  │\n",
       "│ 7   │ 1975  │ 5.86022 │ 3.26882 │ 0.311828 │ 0.387097 │ 0.107527  │ 0.0752688 │ 9.64184 │ 3328.6  │ 0.645161 │ 238.5     │ 119.473 │ 195.312  │ 71.7419  │ 108.129 │ 16.2688  │\n",
       "│ 8   │ 1976  │ 5.62626 │ 3.28283 │ 0.282828 │ 0.343434 │ 0.10101   │ 0.0909091 │ 9.49007 │ 3159.45 │ 0.616162 │ 218.66    │ 112.889 │ 192.515  │ 70.8889  │ 106.833 │ 18.5556  │\n",
       "│ 9   │ 1977  │ 5.61053 │ 3.24211 │ 0.294737 │ 0.378947 │ 0.0842105 │ 0.136842  │ 9.86429 │ 3070.06 │ 0.610526 │ 204.085   │ 109.463 │ 190.747  │ 70.4947  │ 106.038 │ 19.7789  │\n",
       "│ 10  │ 1980  │ 5.23301 │ 3.35922 │ 0.252427 │ 0.359223 │ 0.174757  │ 0.252427  │ 10.7269 │ 2776.99 │ 0.601942 │ 179.446   │ 99.699  │ 185.398  │ 69.4854  │ 103.684 │ 21.6699  │\n",
       "│ 11  │ 1981  │ 5.16379 │ 3.21552 │ 0.336207 │ 0.491379 │ 0.241379  │ 0.232759  │ 13.0352 │ 2819.37 │ 0.517241 │ 171.325   │ 102.017 │ 186.56   │ 69.3276  │ 103.929 │ 22.5     │\n",
       "│ 12  │ 1982  │ 4.98182 │ 3.32727 │ 0.336364 │ 0.490909 │ 0.236364  │ 0.381818  │ 11.5913 │ 2747.25 │ 0.6      │ 158.536   │ 98.3    │ 185.273  │ 68.8636  │ 103.151 │ 23.7727  │\n",
       "│ 13  │ 1983  │ 4.88696 │ 3.30435 │ 0.33913  │ 0.530435 │ 0.2       │ 0.434783  │ 11.1408 │ 2736.82 │ 0.617391 │ 156.169   │ 97.8522 │ 184.087  │ 68.7913  │ 102.857 │ 25.1478  │\n",
       "│ 14  │ 1984  │ 4.92035 │ 3.35398 │ 0.345133 │ 0.663717 │ 0.283186  │ 0.477876  │ 11.6477 │ 2765.41 │ 0.59292  │ 166.069   │ 107.265 │ 183.822  │ 68.4637  │ 102.735 │ 24.1504  │\n",
       "│ 15  │ 1985  │ 4.96324 │ 3.31618 │ 0.345588 │ 0.669118 │ 0.330882  │ 0.522059  │ 12.4764 │ 2759.99 │ 0.566176 │ 163.106   │ 108.081 │ 182.096  │ 68.1625  │ 102.349 │ 22.3868  │\n",
       "│ 16  │ 1978  │ 5.57895 │ 3.33684 │ 0.263158 │ 0.347368 │ 0.0947368 │ 0.178947  │ 10.6021 │ 2964.8  │ 0.642105 │ 199.494   │ 107.695 │ 189.347  │ 70.3579  │ 105.337 │ 19.9263  │\n",
       "│ 17  │ 1979  │ 5.33333 │ 3.28431 │ 0.235294 │ 0.313725 │ 0.0882353 │ 0.215686  │ 10.4513 │ 2840.49 │ 0.598039 │ 184.635   │ 104.108 │ 186.559  │ 69.5     │ 103.849 │ 20.1078  │\n",
       "│ 18  │ 1972  │ 6.20225 │ 3.44944 │ 0.337079 │ 0.348315 │ 0.0449438 │ 0.0       │ 9.04282 │ 3253.78 │ 0.696629 │ 256.947   │ 134.348 │ 196.775  │ 73.3146  │ 111.563 │ 16.3317  │\n",
       "│ 19  │ 1973  │ 6.37209 │ 3.44186 │ 0.395349 │ 0.372093 │ 0.0697674 │ 0.0       │ 9.0452  │ 3337.42 │ 0.709302 │ 261.949   │ 131.256 │ 198.384  │ 73.0233  │ 111.215 │ 16.2506  │\n",
       "│ 20  │ 1974  │ 6.0     │ 3.30556 │ 0.375    │ 0.375    │ 0.125     │ 0.0       │ 9.25473 │ 3268.29 │ 0.652778 │ 239.179   │ 122.556 │ 196.194  │ 71.9306  │ 108.874 │ 16.3329  │"
      ]
     },
     "execution_count": 4,
     "metadata": {},
     "output_type": "execute_result"
    }
   ],
   "source": [
    "### Replicate Table 1: Summary Stats\n",
    "using Statistics\n",
    "\n",
    "#Add or substrct column names as needed:\n",
    "cnames = [:year,:cy,:dr,:at,:ps,:air,:drv,:p,:wt,:dom,:disp,:hp,:lng,:wdt,:wb,:mpg]\n",
    "aggregate(dataset[!,cnames], [:year], mean)"
   ]
  },
  {
   "cell_type": "markdown",
   "metadata": {},
   "source": [
    "### A2. Data cleaning\n",
    "\n",
    "#### Step 1. Obtain market share for each good $j$: $s_{jt}$ = $\\frac{q_{jt}}{nb\\_hh_{t}}$\n",
    "\n",
    "For notation, let denote total market size $nb\\_hh_t = M_t$"
   ]
  },
  {
   "cell_type": "code",
   "execution_count": 5,
   "metadata": {},
   "outputs": [],
   "source": [
    "dataset = @linq dataset |> \n",
    "groupby([:year]) |>\n",
    "transform(Total_Q = sum(:q))\n",
    "\n",
    "dataset.s_j = dataset.q./dataset.nb_hh;"
   ]
  },
  {
   "cell_type": "markdown",
   "metadata": {},
   "source": [
    "#### Step 2. Obtain market share for outside good 0: $s_{0t}$ = $\\frac{ \\Big(nb\\_hh_t - \\sum_{k=1}^J(q_{kt}) \\Big)}{nb\\_hh_t}$"
   ]
  },
  {
   "cell_type": "code",
   "execution_count": 6,
   "metadata": {},
   "outputs": [],
   "source": [
    "dataset.s_0 = (dataset.nb_hh-dataset.Total_Q)./dataset.nb_hh;"
   ]
  },
  {
   "cell_type": "markdown",
   "metadata": {},
   "source": [
    "#### Step 3. Construct dependent variable: $ \\text{ln}(s_{jt}) - \\text{ln}(s_{0t}) $"
   ]
  },
  {
   "cell_type": "code",
   "execution_count": 7,
   "metadata": {},
   "outputs": [],
   "source": [
    "dataset.log_s_j_0 = log.(dataset.s_j) - log.(dataset.s_0);"
   ]
  },
  {
   "cell_type": "markdown",
   "metadata": {},
   "source": [
    "### A3. Run linear regression using eq(A)\n",
    "\n",
    "#### Step 4. we use hp2wt, air, mpgd, size as product characteristics:\n",
    "$$ \\text{ln}(s_j) - \\text{ln} (s_0) \\ = \\delta_j \\equiv x_j' \\beta - \\alpha p_j + \\xi_j $$ "
   ]
  },
  {
   "cell_type": "code",
   "execution_count": 8,
   "metadata": {},
   "outputs": [
    {
     "name": "stdout",
     "output_type": "stream",
     "text": [
      "                               Linear Model                               \n",
      "===========================================================================\n",
      "Number of obs:                  2217   Degrees of freedom:                6\n",
      "R2:                            0.390   R2 Adjusted:                   0.388\n",
      "F Statistic:                  282.47   p-value:                       0.000\n",
      "===========================================================================\n",
      "               Estimate  Std.Error   t value Pr(>|t|)  Lower 95%  Upper 95%\n",
      "---------------------------------------------------------------------------\n",
      "p            -0.0886398 0.00401348  -22.0855    0.000 -0.0965104 -0.0807692\n",
      "hp2wt        -0.0731735   0.276701  -0.26445    0.791  -0.615794   0.469447\n",
      "air          -0.0380115  0.0726455 -0.523246    0.601  -0.180472   0.104449\n",
      "mpgd          0.0288388 0.00439518   6.56147    0.000  0.0202197  0.0374579\n",
      "size            2.40052   0.126801   18.9315    0.000    2.15186    2.64919\n",
      "(Intercept)    -10.2035    0.26002  -39.2412    0.000   -10.7134   -9.69356\n",
      "===========================================================================\n"
     ]
    }
   ],
   "source": [
    "result = reg(dataset, @formula(log_s_j_0 ~ p+hp2wt+air+mpgd+size ),  save = true,);\n",
    "print(result)"
   ]
  },
  {
   "cell_type": "markdown",
   "metadata": {},
   "source": [
    "####  Step 5. Obtain Price elasticities:\n",
    "Note that own price elasticities $(\\eta_j$) is given by: \n",
    "\n",
    "\\begin{align}\n",
    "\\eta_j & = \\frac{\\partial Pr(j)}{\\partial price_j} \\underbrace{\\frac{price_j}{Pr(j)}}_{\\frac{price_j}{s_j \\times M}} \\\\\n",
    "& \\text{Note that} \\ \\frac{\\partial Pr(j)}{\\partial price_j} = \\frac{\\partial s_j}{\\partial price_j} \\times M  \\ \\text{where} \\ s_j = \\frac{e^{\\delta_j}}{\\sum_k^J e^{\\delta_j}}  \\\\\n",
    "& \\text{Appealing to chain rule}: \\frac{\\partial s_j}{\\partial price_j} \\ M = \\Bigg[ \\alpha \\frac{e^{\\delta_j}}{\\sum_k^J e^{\\delta_j}} - \\alpha \\Big(  \\frac{e^{\\delta_j}}{\\sum_k^J e^{\\delta_j}}\\Big)^2   \\Bigg] = M \\alpha [s_j - s_j^2]  = M \\alpha s_j[1- s_j]\\\\\n",
    "& \\text{Rearranging these terms gives us:} \\\\\n",
    "& \\eta_j = \\underbrace{\\frac{\\partial Pr(j)}{\\partial price_j}}_{M \\alpha s_j[1- s_j]} \\underbrace{\\frac{price_j}{Pr(j)}}_{\\frac{price_j}{s_j \\times M}} = M \\alpha s_j[1- s_j] \\times \\frac{price_j}{s_j} \\frac{1}{M} = \\underbrace{\\alpha \\times (1-s_j) \\times price_j}_\\text{price elasticities for good j} \\\\\n",
    "& = \\alpha \\times (1-s_j) \\times price_j\n",
    "\\end{align}"
   ]
  },
  {
   "cell_type": "code",
   "execution_count": 9,
   "metadata": {},
   "outputs": [
    {
     "data": {
      "text/plain": [
       "1502"
      ]
     },
     "execution_count": 9,
     "metadata": {},
     "output_type": "execute_result"
    }
   ],
   "source": [
    "# Following price elasticities, I can derive price elasticities for each good j, using price coefficients alpha.\n",
    "\n",
    "price_coef = coef(result)[2];\n",
    "dataset.e = price_coef * (ones(nrow(dataset))-dataset.s_j) .* dataset.p;\n",
    "\n",
    "q1 = @from i in dataset begin;\n",
    "            @where i.e >-1\n",
    "            @select {elasticity=i.e}\n",
    "            @collect DataFrame\n",
    "    end;\n",
    "nrow(q1)\n"
   ]
  },
  {
   "cell_type": "markdown",
   "metadata": {},
   "source": [
    "#### Replication: BLP Table 3, IV Logit Demand Column (Row: No. Inelastic De) in page 873.\n",
    "#### I derive the number of inelastic car model. My estimates are 1,502. BLP's estimates were 1,494, which is pretty close."
   ]
  },
  {
   "cell_type": "markdown",
   "metadata": {},
   "source": [
    "### A4. Run 2sls using instruments\n",
    "\n",
    "Following BLP, I use the following instruments for price.\n",
    "\n",
    "#### 1. the sum of size at market $t$. (Note that you need to drop product $j$'s own size.)\n",
    "#### 2. the sum of size across rival firm products at market $t$."
   ]
  },
  {
   "cell_type": "code",
   "execution_count": 10,
   "metadata": {},
   "outputs": [],
   "source": [
    "# IV 1\n",
    "\n",
    "dataset = @linq dataset |> \n",
    "groupby([:year]) |>\n",
    "transform(Total_size = sum(:size));\n",
    "dataset.iv_size1 = dataset.Total_size - dataset.size;"
   ]
  },
  {
   "cell_type": "code",
   "execution_count": 11,
   "metadata": {},
   "outputs": [],
   "source": [
    "# IV 2\n",
    "\n",
    "dataset = @linq dataset |> \n",
    "groupby([:year , :firmids]) |>\n",
    "transform(sum_size = sum(:size));\n",
    "dataset.iv_size2 = dataset.Total_size - dataset.sum_size;"
   ]
  },
  {
   "cell_type": "code",
   "execution_count": 12,
   "metadata": {},
   "outputs": [
    {
     "name": "stdout",
     "output_type": "stream",
     "text": [
      "                              Linear Model                              \n",
      "=========================================================================\n",
      "Number of obs:                 2217   Degrees of freedom:               7\n",
      "R2:                           0.592   R2 Adjusted:                  0.591\n",
      "F Statistic:                534.872   p-value:                      0.000\n",
      "=========================================================================\n",
      "              Estimate  Std.Error  t value Pr(>|t|)  Lower 95%  Upper 95%\n",
      "-------------------------------------------------------------------------\n",
      "iv_size1     -0.030544 0.00999712 -3.05528    0.002 -0.0501487 -0.0109393\n",
      "iv_size2     0.0919841 0.00809711  11.3601    0.000  0.0761054   0.107863\n",
      "hp2wt          25.8362    1.31783  19.6051    0.000    23.2518    28.4205\n",
      "air            9.57023   0.327809  29.1945    0.000    8.92738    10.2131\n",
      "mpgd         -0.272477  0.0270151 -10.0861    0.000  -0.325455  -0.219499\n",
      "size           2.25533   0.727117  3.10174    0.002   0.829424    3.68123\n",
      "(Intercept)   -5.21123    1.50736  -3.4572    0.001   -8.16721   -2.25525\n",
      "=========================================================================\n"
     ]
    }
   ],
   "source": [
    "# 2SLS Regression for demand estimation\n",
    "# First stage: regress price on Z and X\n",
    "\n",
    "first_stage_result = reg(dataset, @formula(p ~ iv_size1+ iv_size2+hp2wt + air+mpgd+size), save = true, );\n",
    "print(first_stage_result)"
   ]
  },
  {
   "cell_type": "code",
   "execution_count": 13,
   "metadata": {},
   "outputs": [
    {
     "name": "stdout",
     "output_type": "stream",
     "text": [
      "                                Linear Model                                \n",
      "============================================================================\n",
      "Number of obs:                   2217  Degrees of freedom:                 6\n",
      "R2:                             0.355  R2 Adjusted:                    0.354\n",
      "F Statistic:                  243.848  p-value:                        0.000\n",
      "============================================================================\n",
      "                Estimate  Std.Error  t value Pr(>|t|)  Lower 95%   Upper 95%\n",
      "----------------------------------------------------------------------------\n",
      "p_iv           -0.289427  0.0156063 -18.5455    0.000  -0.320032   -0.258823\n",
      "hp2wt            5.63223   0.513603  10.9661    0.000    4.62503     6.63942\n",
      "air              2.18099   0.182327  11.9619    0.000    1.82344     2.53854\n",
      "mpgd         -0.00984143 0.00536771 -1.83345    0.067 -0.0203677 0.000684853\n",
      "size             2.19676   0.131213  16.7419    0.000    1.93944     2.45407\n",
      "(Intercept)      -9.5444   0.271767 -35.1198    0.000   -10.0773    -9.01145\n",
      "============================================================================\n"
     ]
    }
   ],
   "source": [
    "# Second Stage: regress log(s_j)-log(s_0) on xhat\n",
    "\n",
    "xhat = predict(first_stage_result, dataset);\n",
    "dataset.p_iv = xhat;\n",
    "second_stage_result = reg(dataset, @formula(log_s_j_0 ~ p_iv+hp2wt + air+mpgd+size), save = true);\n",
    "print(second_stage_result)"
   ]
  },
  {
   "cell_type": "code",
   "execution_count": 14,
   "metadata": {},
   "outputs": [],
   "source": [
    "price_coef = coef(second_stage_result)[2];\n",
    "dataset.e_iv = price_coef * (ones(nrow(dataset))-dataset.s_j) .* dataset.p;"
   ]
  },
  {
   "cell_type": "code",
   "execution_count": 15,
   "metadata": {},
   "outputs": [],
   "source": [
    "q1 = @from i in dataset begin;\n",
    "            @where i.e_iv >-1\n",
    "            @select {number_of_children=i.e_iv}\n",
    "            @collect DataFrame\n",
    "    end;"
   ]
  },
  {
   "cell_type": "markdown",
   "metadata": {},
   "source": [
    "### Comparision with BLP Table 3, IV Logit Demand Column (Row: No. Inelastic De) in page 873.\n",
    "\n",
    "#### Note that I have slightly different price coefficients, I observe number of inelastic demand good is 2. BLP estimates were 22."
   ]
  },
  {
   "cell_type": "code",
   "execution_count": 16,
   "metadata": {},
   "outputs": [
    {
     "data": {
      "text/plain": [
       "2"
      ]
     },
     "execution_count": 16,
     "metadata": {},
     "output_type": "execute_result"
    }
   ],
   "source": [
    "nrow(q1)"
   ]
  },
  {
   "cell_type": "markdown",
   "metadata": {},
   "source": [
    "### Step 6. Discussion : IV regressions\n",
    "\n",
    "#### Reported price coefficient ($\\alpha$) is -0.0886 in OLS.\n",
    "#### Now we have -0.2894  ($\\alpha$) in IV regression. Prices are upward biased in OLS."
   ]
  },
  {
   "cell_type": "code",
   "execution_count": 17,
   "metadata": {},
   "outputs": [
    {
     "name": "stdout",
     "output_type": "stream",
     "text": [
      "                               Linear Model                               \n",
      "===========================================================================\n",
      "Number of obs:                  2217   Degrees of freedom:                6\n",
      "R2:                            0.390   R2 Adjusted:                   0.388\n",
      "F Statistic:                  282.47   p-value:                       0.000\n",
      "===========================================================================\n",
      "               Estimate  Std.Error   t value Pr(>|t|)  Lower 95%  Upper 95%\n",
      "---------------------------------------------------------------------------\n",
      "p            -0.0886398 0.00401348  -22.0855    0.000 -0.0965104 -0.0807692\n",
      "hp2wt        -0.0731735   0.276701  -0.26445    0.791  -0.615794   0.469447\n",
      "air          -0.0380115  0.0726455 -0.523246    0.601  -0.180472   0.104449\n",
      "mpgd          0.0288388 0.00439518   6.56147    0.000  0.0202197  0.0374579\n",
      "size            2.40052   0.126801   18.9315    0.000    2.15186    2.64919\n",
      "(Intercept)    -10.2035    0.26002  -39.2412    0.000   -10.7134   -9.69356\n",
      "===========================================================================\n"
     ]
    }
   ],
   "source": [
    "# OLS Results\n",
    "print(result)"
   ]
  },
  {
   "cell_type": "code",
   "execution_count": 18,
   "metadata": {},
   "outputs": [
    {
     "name": "stdout",
     "output_type": "stream",
     "text": [
      "                                Linear Model                                \n",
      "============================================================================\n",
      "Number of obs:                   2217  Degrees of freedom:                 6\n",
      "R2:                             0.355  R2 Adjusted:                    0.354\n",
      "F Statistic:                  243.848  p-value:                        0.000\n",
      "============================================================================\n",
      "                Estimate  Std.Error  t value Pr(>|t|)  Lower 95%   Upper 95%\n",
      "----------------------------------------------------------------------------\n",
      "p_iv           -0.289427  0.0156063 -18.5455    0.000  -0.320032   -0.258823\n",
      "hp2wt            5.63223   0.513603  10.9661    0.000    4.62503     6.63942\n",
      "air              2.18099   0.182327  11.9619    0.000    1.82344     2.53854\n",
      "mpgd         -0.00984143 0.00536771 -1.83345    0.067 -0.0203677 0.000684853\n",
      "size             2.19676   0.131213  16.7419    0.000    1.93944     2.45407\n",
      "(Intercept)      -9.5444   0.271767 -35.1198    0.000   -10.0773    -9.01145\n",
      "============================================================================\n"
     ]
    }
   ],
   "source": [
    "# 2SLS Results\n",
    "print(second_stage_result)"
   ]
  },
  {
   "cell_type": "markdown",
   "metadata": {},
   "source": [
    "## B. Monte Carlo Example: estimate logit-demand after solving Nash-Bertrand game\n",
    "- B1. Data Generating Process\n",
    "- B2. Obtain (numerically) equilibrium price and market shares\n",
    "- B3. Regress using OLS / IV\n",
    "\n",
    "### B1. Data Generating Process\n",
    "\n",
    "\n",
    "Market is characterized by dupoly firms which procuce single good, with aggregate market shares, and price for each good. We assume that duopoly firms compete in 500 \"independent\" (isolated) markets.\n",
    "\n",
    "In D.G.P., we solve Nash-Bertrand game so that we derive dupoly firm's price, and market shares. We use cost shifters and product characteritics to numerically solve this game. Since it is D.G.P. we use true parameters to obtain price, and market shares.\n",
    "\n",
    "\n",
    "As an econometrician, we observe dupoly firm's market share, price, costs, and product characteristics. \n",
    "\n",
    "The utility of each consumer $i$ in each market is given by:\n",
    "\n",
    "\\begin{equation}\n",
    "    u_{ij} = \\beta_0 + \\beta_1 x_j + \\sigma_d \\xi_j - \\alpha p_j + \\epsilon_{ij}\n",
    "\\end{equation}\n",
    "Marginal cost is constrained to be postitive and given by:\n",
    "\n",
    "\\begin{equation}\n",
    "    c_j = e^{\\gamma_0 + \\gamma_x x_j + \\sigma_c \\xi_j + \\gamma_w w_j + \\sigma_\\omega \\omega_j}\n",
    "\\end{equation}\n",
    "\n",
    "The exogenous data $x_j, \\xi_j, w_j, $ and $\\omega_j$ are all created standard normal random variables.\n",
    "\n",
    "True parameter is given by: \n",
    "\n",
    "| Parameter        | True Value | Description |\n",
    "|------------------|------------|-------------|\n",
    "| $ \\beta_0$       | 5          |  Intercept (demand)          |\n",
    "| $ \\beta_x$       | 2          |  Utility from good $x$       |\n",
    "| $ \\sigma_d$      | 1 / 3 (second monte carlo)      |  Covariance                  |\n",
    "| $\\alpha $        | 1          |  Price coefficients          |\n",
    "| $ \\gamma_0$      | 1          |  Intercept (Supply)          |\n",
    "| $\\gamma_x $      | 5          |  Cost from good $x$          |\n",
    "| $ \\sigma_c$      | 0.25       |  Covariance  $(\\xi_j)$                |\n",
    "| $ \\gamma_w$      | 0.25       |   Parameters for input costs |\n",
    "| $ \\sigma_\\omega$ | 0.25       |   Covariance $(\\omega_j)$                |\n",
    "\n",
    "\n",
    "\n",
    "\n",
    "### B2. Obtain (numerically) equilibrium price and market shares (still D.G.P)\n",
    "I solve nonlinear equation where under j=1,2. (Argument: $p_1, p_2, s_1(p_1, p_2), s_2(p_1,p_2)$)  $X$ is a vector dupoly firm's product charactersitics $ X = \\{ x_1, x_2 \\}$\n",
    "Note that $s_0 = 1-s_1-s_2$\n",
    "\n",
    "\\begin{align}\n",
    "p_1 & = c_1 - \\frac{1}{\\alpha (1-s_1)} \\\\\n",
    "p_2 & = c_2 - \\frac{1}{\\alpha (1-s_2)} \\\\\n",
    "& \\text{Note that $s_1$, and $s_2$ is given by} \\\\\n",
    "s_1(X,p_1, p_2) & = \\frac{exp^{\\beta_0 + \\beta_1 x_1 + \\sigma_d \\xi_1 - \\alpha p_1}}{1+exp^{\\beta_0 + \\beta_1 x_1 + \\sigma_d \\xi_1 - \\alpha p_1} +exp^{\\beta_0 + \\beta_1 x_2 + \\sigma_d \\xi_2 - \\alpha p_2} } \\\\\n",
    "s_2(X,p_1, p_2) & = \\frac{exp^{\\beta_0 + \\beta_1 x_2 + \\sigma_d \\xi_2 - \\alpha p_2}}{1+exp^{\\beta_0 + \\beta_1 x_1 + \\sigma_d \\xi_1 - \\alpha p_1} + exp^{\\beta_0 + \\beta_1 x_2 + \\sigma_d \\xi_2 - \\alpha p_2}}\n",
    "\\end{align}\n",
    "\n",
    "Using Nonlinear solver, we can obtain equilibrium outcome: $p_1, p_2, s_1, s_2 (s_0= 1-s_1-s_2).$ One might concern about multiple equilibria for this game. Since we solve single product under duopoly (which is simple market), we observe unique solution for this Monte Carlo Study. Please see Nalebuff (1991) for multi-product firm problem, or uniquness of this game.\n",
    "\n",
    "### B3. Regress using OLS / IV\n",
    "Following Berry's inversion an econometrician run following OLS/IV regression. An econometrician observes price, product characteristics, and cost shifters for 500 independent dupoly markets.\n",
    "\n",
    "\\begin{align}\n",
    "\\text{ln} (s_j) - \\text{ln} (s_0) \\ & =  \\delta_j \\\\\n",
    "& = \\beta_0 + \\beta_1 x_j - \\alpha p_j + \\sigma_d \\xi_j \n",
    "\\end{align}\n",
    "\n",
    "For IV, I use cost shifters, and competitors' product characteristics, as in Berry (1994)\n",
    "\n",
    "Note that in OLS, since an econometrician cannot observe $\\xi_j$ term, price coefficients $\\alpha$ is upward biased. In the IV regression, the observed cost factors, $w_j$, and the product characteristic of the rival firm are used as instruments for price.\n",
    "\n",
    "#### For each simulation, we independently draw these for 500 markets, as in Berry(1994).\n",
    "#### Repeat 100 times, and report Monte Racrlo results"
   ]
  },
  {
   "cell_type": "code",
   "execution_count": 19,
   "metadata": {},
   "outputs": [
    {
     "data": {
      "text/plain": [
       "Normal{Float64}(μ=0.0, σ=1.0)"
      ]
     },
     "execution_count": 19,
     "metadata": {},
     "output_type": "execute_result"
    }
   ],
   "source": [
    "# Define parameters, as in Berry's 1994 Monte Carlo\n",
    "\n",
    "beta_0 = 5.0\n",
    "beta_x = 2.0\n",
    "sigma_d = 1.0\n",
    "alpha = -1.0\n",
    "\n",
    "gamma_0 = 1.0\n",
    "gamma_x = 0.5\n",
    "\n",
    "sigma_c = 0.25\n",
    "gamma_w = 0.25\n",
    "sigma_omega = 0.25\n",
    "\n",
    "T = 500\n",
    "S = 100\n",
    "d = Normal()"
   ]
  },
  {
   "cell_type": "code",
   "execution_count": null,
   "metadata": {},
   "outputs": [],
   "source": [
    "# Define Non-linear solver\n",
    "\n",
    "function f!(F, x)\n",
    "    \n",
    "    # D.G.P for true costs\n",
    "    cost_1 = exp(gamma_0 + gamma_x * data_temp1[:x] + sigma_c * data_temp1[:xi] + gamma_w * data_temp1[:w] + sigma_omega * data_temp1[:omega])\n",
    "    cost_2 = exp(gamma_0 + gamma_x * data_temp2[:x] + sigma_c * data_temp2[:xi] + gamma_w * data_temp2[:w] + sigma_omega * data_temp2[:omega])\n",
    "    \n",
    "    # Derive equillibrium price / quantity(markset shares)\n",
    "    price_1 = cost_1 - 1/(alpha*(1-x[1]))\n",
    "    price_2 = cost_2 - 1/(alpha*(1-x[2]))    \n",
    "    w\n",
    "    #x[1]: market share of good 1\n",
    "    #x[2]: market share of good 2\n",
    "    \n",
    "    denom = 1 + exp(beta_0 + beta_x*data_temp1[:x] + sigma_d*data_temp1[:xi] + alpha*price_1)  + exp(beta_0 + beta_x*data_temp2[:x] + sigma_d*data_temp2[:xi] + alpha*price_2) \n",
    "    F[1] = x[1] - exp(beta_0 + beta_x*data_temp1[:x] + sigma_d*data_temp1[:xi] + alpha*price_1)/denom\n",
    "    F[2] = x[2] - exp(beta_0 + beta_x*data_temp2[:x] + sigma_d*data_temp2[:xi] + alpha*price_2)/denom\n",
    "end"
   ]
  },
  {
   "cell_type": "markdown",
   "metadata": {},
   "source": [
    "### Replicate Table 1 in Berry(1994), column (1) and (2), where $\\sigma_d=1$"
   ]
  },
  {
   "cell_type": "code",
   "execution_count": 38,
   "metadata": {},
   "outputs": [
    {
     "name": "stdout",
     "output_type": "stream",
     "text": [
      "Monte Carlo Parameter Estimates 100 Random Samples of 500 Duopoly Markets  Logit Utility (sigma_d  = 1)Result Summary3×5 DataFrame\n",
      "│ Row │ True_parameter │ OLS_mean │ OLS_se    │ IV_mean  │ IV_se     │\n",
      "│     │ \u001b[90mFloat64\u001b[39m        │ \u001b[90mFloat64\u001b[39m  │ \u001b[90mFloat64\u001b[39m   │ \u001b[90mFloat64\u001b[39m  │ \u001b[90mFloat64\u001b[39m   │\n",
      "├─────┼────────────────┼──────────┼───────────┼──────────┼───────────┤\n",
      "│ 1   │ 5.0            │ 3.1872   │ 0.235697  │ 5.01814  │ 0.266852  │\n",
      "│ 2   │ 2.0            │ 1.33611  │ 0.0742151 │ 2.01013  │ 0.0994837 │\n",
      "│ 3   │ -1.0           │ -0.63979 │ 0.0482097 │ -1.00436 │ 0.0513297 │"
     ]
    }
   ],
   "source": [
    "### It takes 5 seconds, at the current workflow\n",
    "sigma_d = 1\n",
    "\n",
    "for s = 1:S\n",
    "    ### Step B1. D.G.P.\n",
    "    \n",
    "    # If you want to have same results, you need to assign random seed\n",
    "    Random.seed!(s*100+T+1)\n",
    "    x_1 = rand(d, T);\n",
    "    Random.seed!(s*100+T+2)\n",
    "    xi_1 = rand(d, T);\n",
    "    Random.seed!(s*100+T+3)\n",
    "    w_1 = rand(d, T);\n",
    "    Random.seed!(s*100+T+4)\n",
    "    omega_1 = rand(d, T);\n",
    "    \n",
    "    Random.seed!(s*100+T+5)\n",
    "    x_2 = rand(d, T);\n",
    "    Random.seed!(s*100+T+6)\n",
    "    xi_2 = rand(d, T);\n",
    "    Random.seed!(s*100+T+7)\n",
    "    w_2 = rand(d, T);\n",
    "    Random.seed!(s*100+T+8)\n",
    "    omega_2 = rand(d, T);\n",
    "\n",
    "    data_1 = DataFrame(x = x_1[1:T], xi = xi_1[1:T], w = w_1[1:T], omega = omega_1[1:T], iv=x_2[1:T]);\n",
    "    data_2 = DataFrame(x = x_2[1:T], xi = xi_2[1:T], w = w_2[1:T], omega = omega_2[1:T], iv=x_1[1:T]);\n",
    "\n",
    "    # For the first periods\n",
    "\n",
    "    data_temp1 = data_1[1,:]\n",
    "    data_temp2 = data_2[1,:]\n",
    "    global data_temp1, data_temp2\n",
    "    \n",
    "    ### Step B2. Solve Equilibrium price and market shares using nonlinear-solver\n",
    "    \n",
    "    a= nlsolve(f!, [0.1; 0.1])\n",
    "\n",
    "    vector_s1 = [a.zero[1]]\n",
    "    vector_s2 = [a.zero[2]]\n",
    "    vector_s0 = [1-a.zero[1]-a.zero[2]]\n",
    "\n",
    "    cost_1 = exp(gamma_0 + gamma_x * data_temp1[:x] + sigma_c * data_temp1[:xi] + gamma_w * data_temp1[:w] + sigma_omega * data_temp1[:omega])\n",
    "    cost_2 = exp(gamma_0 + gamma_x * data_temp2[:x] + sigma_c * data_temp2[:xi] + gamma_w * data_temp2[:w] + sigma_omega * data_temp2[:omega])\n",
    "\n",
    "    vector_p1 = [cost_1 - 1/(alpha*(1-a.zero[1]))]\n",
    "    vector_p2 = [cost_2 - 1/(alpha*(1-a.zero[2]))]\n",
    "\n",
    "    vector_delta_1 = [beta_0 + beta_x * data_temp1[:x] + alpha*(cost_1 - 1/(alpha*(1-a.zero[1])) )]\n",
    "    vector_delta_2 = [beta_0 + beta_x * data_temp2[:x] + alpha*(cost_2 - 1/(alpha*(1-a.zero[2])) )]\n",
    "\n",
    "    # From the second market to T markets.\n",
    "    t=2\n",
    "    for t = 2:T\n",
    "\n",
    "        data_temp1 = data_1[t,:]\n",
    "        data_temp2 = data_2[t,:]\n",
    "        \n",
    "        # Step 1. Solve Equilibrium price / market shares\n",
    "        \n",
    "        a= nlsolve(f!, [0.0; 0.0])\n",
    "\n",
    "        append!(vector_s1, [a.zero[1]]);\n",
    "        append!(vector_s2, [a.zero[2]]);\n",
    "        append!(vector_s0, [1-a.zero[1]-a.zero[2]]);\n",
    "        cost_1 = exp(gamma_0 + gamma_x * data_temp1[:x] + sigma_c * data_temp1[:xi] + gamma_w * data_temp1[:w] + sigma_omega * data_temp1[:omega])\n",
    "        cost_2 = exp(gamma_0 + gamma_x * data_temp2[:x] + sigma_c * data_temp2[:xi] + gamma_w * data_temp2[:w] + sigma_omega * data_temp2[:omega])\n",
    "\n",
    "        append!(vector_p1, [cost_1 - 1/(alpha*(1-a.zero[1]))]);\n",
    "        append!(vector_p2, [cost_2 - 1/(alpha*(1-a.zero[2]))]);\n",
    "\n",
    "        append!(vector_delta_1, [beta_0 + beta_x * data_temp1[:x] + alpha*(cost_1 - 1/(alpha*(1-a.zero[1])) )]);\n",
    "        append!(vector_delta_2, [beta_0 + beta_x * data_temp2[:x] + alpha*(cost_2 - 1/(alpha*(1-a.zero[2])) )]);\n",
    "\n",
    "    end\n",
    "\n",
    "    data_1.price = vector_p1;\n",
    "    data_2.price = vector_p2;\n",
    "\n",
    "    data_1.s = vector_s1;\n",
    "    data_2.s = vector_s2;\n",
    "\n",
    "    data_1.delta = vector_delta_1;\n",
    "    data_2.delta = vector_delta_2;\n",
    "\n",
    "    data_1.log_sj_s0 = log.(vector_s1) - log.(vector_s0);\n",
    "    data_2.log_sj_s0 = log.(vector_s2) - log.(vector_s0);\n",
    "    \n",
    "    # Merge into dataset\n",
    "    data_merged =  append!(data_1, data_2);\n",
    "    \n",
    "    ### B3. Regress using OLS / IV\n",
    "    \n",
    "    ## OLS Regression\n",
    "    \n",
    "    ols_result = reg(data_merged, @formula(log_sj_s0 ~ x + price), save = true, Vcov.robust());\n",
    "    ols_cons = coef(ols_result)[1];\n",
    "    ols_x = coef(ols_result)[2];\n",
    "    ols_p = coef(ols_result)[3];\n",
    "\n",
    "    ## IV Regression\n",
    "    first_stage_result = reg(data_merged, @formula(price ~  iv + w +x), save = true, Vcov.robust());\n",
    "\n",
    "    xhat = predict(first_stage_result, data_merged);\n",
    "    data_merged.xhat = xhat;\n",
    "\n",
    "    iv_result = reg(data_merged, @formula(log_sj_s0 ~  x + xhat), save = true, Vcov.robust());\n",
    "    iv_cons = coef(iv_result)[1];\n",
    "    iv_x = coef(iv_result)[2];\n",
    "    iv_p = coef(iv_result)[3];\n",
    "    \n",
    "    if s == 1\n",
    "        vector_ols_cons = [ols_cons]\n",
    "        vector_ols_x = [ols_x]\n",
    "        vector_ols_p = [ols_p]\n",
    "    \n",
    "        vector_iv_cons = [iv_cons]\n",
    "        vector_iv_x = [iv_x]\n",
    "        vector_iv_p = [iv_p]\n",
    "        \n",
    "        # Store Monte Carlo Results\n",
    "        global vector_ols_cons, vector_ols_x, vector_ols_p, vector_iv_cons, vector_iv_x, vector_iv_p\n",
    "    else\n",
    "\n",
    "        append!(vector_ols_cons, [ols_cons])\n",
    "        append!(vector_ols_x, [ols_x])\n",
    "        append!(vector_ols_p, [ols_p])\n",
    "        \n",
    "        append!(vector_iv_cons, [iv_cons])\n",
    "        append!(vector_iv_x, [iv_x])\n",
    "        append!(vector_iv_p, [iv_p])\n",
    "\n",
    "    end\n",
    "end\n",
    "\n",
    "print(\"Monte Carlo Parameter Estimates 100 Random Samples of 500 Duopoly Markets  Logit Utility (sigma_d  = 1)\")\n",
    "\n",
    "result_summary =DataFrame( True_parameter = [beta_0, beta_x, alpha], OLS_mean = [mean(vector_ols_cons),mean(vector_ols_x),mean(vector_ols_p)], OLS_se = [std(vector_ols_cons),std(vector_ols_x),std(vector_ols_p)],\n",
    "    IV_mean = [mean(vector_iv_cons),mean(vector_iv_x),mean(vector_iv_p)], IV_se =[std(vector_iv_cons),std(vector_iv_x),std(vector_iv_p)]);\n",
    "print(\"Result Summary\")\n",
    "print(result_summary)"
   ]
  },
  {
   "cell_type": "markdown",
   "metadata": {},
   "source": [
    "### Replicate Table 1 in Berry(1994), column (1) and (2), where $\\sigma_d=3$"
   ]
  },
  {
   "cell_type": "code",
   "execution_count": 40,
   "metadata": {},
   "outputs": [
    {
     "name": "stdout",
     "output_type": "stream",
     "text": [
      "Monte Carlo Parameter Estimates 100 Random Samples of 500 Duopoly Markets  Logit Utility (sigma_d  = 3)3×5 DataFrame\n",
      "│ Row │ True_parameter │ OLS_mean  │ OLS_se    │ IV_mean  │ IV_se    │\n",
      "│     │ \u001b[90mFloat64\u001b[39m        │ \u001b[90mFloat64\u001b[39m   │ \u001b[90mFloat64\u001b[39m   │ \u001b[90mFloat64\u001b[39m  │ \u001b[90mFloat64\u001b[39m  │\n",
      "├─────┼────────────────┼───────────┼───────────┼──────────┼──────────┤\n",
      "│ 1   │ 5.0            │ -0.762803 │ 0.418897  │ 5.03208  │ 0.847055 │\n",
      "│ 2   │ 2.0            │ 0.0195958 │ 0.115257  │ 1.99649  │ 0.301829 │\n",
      "│ 3   │ -1.0           │ 0.105563  │ 0.0831606 │ -1.00709 │ 0.166926 │"
     ]
    }
   ],
   "source": [
    "sigma_d = 3.0\n",
    "\n",
    "for s = 1:S\n",
    "    ### Step B1. D.G.P.\n",
    "    \n",
    "    # If you want to have same results, you need to assign random seed\n",
    "    Random.seed!(s*100+T+1)\n",
    "    x_1 = rand(d, T);\n",
    "    Random.seed!(s*100+T+2)\n",
    "    xi_1 = rand(d, T);\n",
    "    Random.seed!(s*100+T+3)\n",
    "    w_1 = rand(d, T);\n",
    "    Random.seed!(s*100+T+4)\n",
    "    omega_1 = rand(d, T);\n",
    "    \n",
    "    Random.seed!(s*100+T+5)\n",
    "    x_2 = rand(d, T);\n",
    "    Random.seed!(s*100+T+6)\n",
    "    xi_2 = rand(d, T);\n",
    "    Random.seed!(s*100+T+7)\n",
    "    w_2 = rand(d, T);\n",
    "    Random.seed!(s*100+T+8)\n",
    "    omega_2 = rand(d, T);\n",
    "\n",
    "    data_1 = DataFrame(x = x_1[1:T], xi = xi_1[1:T], w = w_1[1:T], omega = omega_1[1:T], iv=x_2[1:T]);\n",
    "    data_2 = DataFrame(x = x_2[1:T], xi = xi_2[1:T], w = w_2[1:T], omega = omega_2[1:T], iv=x_1[1:T]);\n",
    "\n",
    "    # For the first periods\n",
    "\n",
    "    data_temp1 = data_1[1,:]\n",
    "    data_temp2 = data_2[1,:]\n",
    "    global data_temp1, data_temp2\n",
    "    \n",
    "    ### Step B2. Solve Equilibrium price and market shares using nonlinear-solver\n",
    "    \n",
    "    a= nlsolve(f!, [0.1; 0.1])\n",
    "\n",
    "    vector_s1 = [a.zero[1]]\n",
    "    vector_s2 = [a.zero[2]]\n",
    "    vector_s0 = [1-a.zero[1]-a.zero[2]]\n",
    "\n",
    "    cost_1 = exp(gamma_0 + gamma_x * data_temp1[:x] + sigma_c * data_temp1[:xi] + gamma_w * data_temp1[:w] + sigma_omega * data_temp1[:omega])\n",
    "    cost_2 = exp(gamma_0 + gamma_x * data_temp2[:x] + sigma_c * data_temp2[:xi] + gamma_w * data_temp2[:w] + sigma_omega * data_temp2[:omega])\n",
    "\n",
    "    vector_p1 = [cost_1 - 1/(alpha*(1-a.zero[1]))]\n",
    "    vector_p2 = [cost_2 - 1/(alpha*(1-a.zero[2]))]\n",
    "\n",
    "    vector_delta_1 = [beta_0 + beta_x * data_temp1[:x] + alpha*(cost_1 - 1/(alpha*(1-a.zero[1])) )]\n",
    "    vector_delta_2 = [beta_0 + beta_x * data_temp2[:x] + alpha*(cost_2 - 1/(alpha*(1-a.zero[2])) )]\n",
    "\n",
    "    # From the second market to T markets.\n",
    "    t=2\n",
    "    for t = 2:T\n",
    "\n",
    "        data_temp1 = data_1[t,:]\n",
    "        data_temp2 = data_2[t,:]\n",
    "        \n",
    "        # Step 1. Solve Equilibrium price / market shares\n",
    "        \n",
    "        a= nlsolve(f!, [0.0; 0.0])\n",
    "\n",
    "        append!(vector_s1, [a.zero[1]]);\n",
    "        append!(vector_s2, [a.zero[2]]);\n",
    "        append!(vector_s0, [1-a.zero[1]-a.zero[2]]);\n",
    "        cost_1 = exp(gamma_0 + gamma_x * data_temp1[:x] + sigma_c * data_temp1[:xi] + gamma_w * data_temp1[:w] + sigma_omega * data_temp1[:omega])\n",
    "        cost_2 = exp(gamma_0 + gamma_x * data_temp2[:x] + sigma_c * data_temp2[:xi] + gamma_w * data_temp2[:w] + sigma_omega * data_temp2[:omega])\n",
    "\n",
    "        append!(vector_p1, [cost_1 - 1/(alpha*(1-a.zero[1]))]);\n",
    "        append!(vector_p2, [cost_2 - 1/(alpha*(1-a.zero[2]))]);\n",
    "\n",
    "        append!(vector_delta_1, [beta_0 + beta_x * data_temp1[:x] + alpha*(cost_1 - 1/(alpha*(1-a.zero[1])) )]);\n",
    "        append!(vector_delta_2, [beta_0 + beta_x * data_temp2[:x] + alpha*(cost_2 - 1/(alpha*(1-a.zero[2])) )]);\n",
    "\n",
    "    end\n",
    "\n",
    "    data_1.price = vector_p1;\n",
    "    data_2.price = vector_p2;\n",
    "\n",
    "    data_1.s = vector_s1;\n",
    "    data_2.s = vector_s2;\n",
    "\n",
    "    data_1.delta = vector_delta_1;\n",
    "    data_2.delta = vector_delta_2;\n",
    "\n",
    "    data_1.log_sj_s0 = log.(vector_s1) - log.(vector_s0);\n",
    "    data_2.log_sj_s0 = log.(vector_s2) - log.(vector_s0);\n",
    "    \n",
    "    # Merge into dataset\n",
    "    data_merged =  append!(data_1, data_2);\n",
    "    \n",
    "    ### B3. Regress using OLS / IV\n",
    "    \n",
    "    ## OLS Regression\n",
    "    \n",
    "    ols_result = reg(data_merged, @formula(log_sj_s0 ~ x + price), save = true, Vcov.robust());\n",
    "    ols_cons = coef(ols_result)[1];\n",
    "    ols_x = coef(ols_result)[2];\n",
    "    ols_p = coef(ols_result)[3];\n",
    "\n",
    "    ## IV Regression\n",
    "    first_stage_result = reg(data_merged, @formula(price ~  iv + w +x), save = true, Vcov.robust());\n",
    "\n",
    "    xhat = predict(first_stage_result, data_merged);\n",
    "    data_merged.xhat = xhat;\n",
    "\n",
    "    iv_result = reg(data_merged, @formula(log_sj_s0 ~  x + xhat), save = true, Vcov.robust());\n",
    "    iv_cons = coef(iv_result)[1];\n",
    "    iv_x = coef(iv_result)[2];\n",
    "    iv_p = coef(iv_result)[3];\n",
    "    \n",
    "    if s == 1\n",
    "        vector_ols_cons = [ols_cons]\n",
    "        vector_ols_x = [ols_x]\n",
    "        vector_ols_p = [ols_p]\n",
    "    \n",
    "        vector_iv_cons = [iv_cons]\n",
    "        vector_iv_x = [iv_x]\n",
    "        vector_iv_p = [iv_p]\n",
    "        \n",
    "        # Store Monte Carlo Results\n",
    "        global vector_ols_cons, vector_ols_x, vector_ols_p, vector_iv_cons, vector_iv_x, vector_iv_p\n",
    "    else\n",
    "\n",
    "        append!(vector_ols_cons, [ols_cons])\n",
    "        append!(vector_ols_x, [ols_x])\n",
    "        append!(vector_ols_p, [ols_p])\n",
    "        \n",
    "        append!(vector_iv_cons, [iv_cons])\n",
    "        append!(vector_iv_x, [iv_x])\n",
    "        append!(vector_iv_p, [iv_p])\n",
    "\n",
    "    end\n",
    "end\n",
    "\n",
    "print(\"Monte Carlo Parameter Estimates 100 Random Samples of 500 Duopoly Markets  Logit Utility (sigma_d  = 1)\")\n",
    "\n",
    "result_summary =DataFrame( True_parameter = [beta_0, beta_x, alpha], OLS_mean = [mean(vector_ols_cons),mean(vector_ols_x),mean(vector_ols_p)], OLS_se = [std(vector_ols_cons),std(vector_ols_x),std(vector_ols_p)],\n",
    "    IV_mean = [mean(vector_iv_cons),mean(vector_iv_x),mean(vector_iv_p)], IV_se =[std(vector_iv_cons),std(vector_iv_x),std(vector_iv_p)]);\n",
    "print(\"Result Summary\")\n",
    "print(result_summary)"
   ]
  },
  {
   "cell_type": "code",
   "execution_count": null,
   "metadata": {},
   "outputs": [],
   "source": []
  },
  {
   "cell_type": "markdown",
   "metadata": {},
   "source": [
    "# Reference\n",
    "\n",
    "Berry, Steven T. \"Estimating discrete-choice models of product differentiation.\" <em>The RAND Journal of Economics<em> (1994): 242-262.\n",
    "\n",
    "Berry, Steven, James Levinsohn, and Ariel Pakes. \"Automobile prices in market equilibrium.\" <em>Econometrica: Journal of the Econometric Society<em> (1995): 841-890."
   ]
  }
 ],
 "metadata": {
  "kernelspec": {
   "display_name": "Julia 1.4.2",
   "language": "julia",
   "name": "julia-1.4"
  },
  "language_info": {
   "file_extension": ".jl",
   "mimetype": "application/julia",
   "name": "julia",
   "version": "1.4.2"
  }
 },
 "nbformat": 4,
 "nbformat_minor": 4
}
